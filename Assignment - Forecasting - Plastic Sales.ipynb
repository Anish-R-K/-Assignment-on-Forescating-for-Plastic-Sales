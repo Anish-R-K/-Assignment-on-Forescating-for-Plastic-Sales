{
 "cells": [
  {
   "cell_type": "code",
   "execution_count": 1,
   "metadata": {},
   "outputs": [],
   "source": [
    "import numpy as np\n",
    "import pandas as pd\n",
    "import matplotlib.pyplot as plt\n",
    "import seaborn as sns\n",
    "from statsmodels.tsa.arima_model import ARIMA\n",
    "from math import sqrt\n",
    "from sklearn.metrics import mean_squared_error"
   ]
  },
  {
   "cell_type": "code",
   "execution_count": 2,
   "metadata": {},
   "outputs": [
    {
     "data": {
      "text/html": [
       "<div>\n",
       "<style scoped>\n",
       "    .dataframe tbody tr th:only-of-type {\n",
       "        vertical-align: middle;\n",
       "    }\n",
       "\n",
       "    .dataframe tbody tr th {\n",
       "        vertical-align: top;\n",
       "    }\n",
       "\n",
       "    .dataframe thead th {\n",
       "        text-align: right;\n",
       "    }\n",
       "</style>\n",
       "<table border=\"1\" class=\"dataframe\">\n",
       "  <thead>\n",
       "    <tr style=\"text-align: right;\">\n",
       "      <th></th>\n",
       "      <th>Month</th>\n",
       "      <th>Sales</th>\n",
       "    </tr>\n",
       "  </thead>\n",
       "  <tbody>\n",
       "    <tr>\n",
       "      <th>0</th>\n",
       "      <td>Jan-49</td>\n",
       "      <td>742</td>\n",
       "    </tr>\n",
       "    <tr>\n",
       "      <th>1</th>\n",
       "      <td>Feb-49</td>\n",
       "      <td>697</td>\n",
       "    </tr>\n",
       "    <tr>\n",
       "      <th>2</th>\n",
       "      <td>Mar-49</td>\n",
       "      <td>776</td>\n",
       "    </tr>\n",
       "    <tr>\n",
       "      <th>3</th>\n",
       "      <td>Apr-49</td>\n",
       "      <td>898</td>\n",
       "    </tr>\n",
       "    <tr>\n",
       "      <th>4</th>\n",
       "      <td>May-49</td>\n",
       "      <td>1030</td>\n",
       "    </tr>\n",
       "  </tbody>\n",
       "</table>\n",
       "</div>"
      ],
      "text/plain": [
       "    Month  Sales\n",
       "0  Jan-49    742\n",
       "1  Feb-49    697\n",
       "2  Mar-49    776\n",
       "3  Apr-49    898\n",
       "4  May-49   1030"
      ]
     },
     "execution_count": 2,
     "metadata": {},
     "output_type": "execute_result"
    }
   ],
   "source": [
    "plastic=pd.read_csv('PlasticSales.csv')\n",
    "plastic.head()"
   ]
  },
  {
   "cell_type": "code",
   "execution_count": 3,
   "metadata": {},
   "outputs": [
    {
     "data": {
      "text/plain": [
       "(60, 2)"
      ]
     },
     "execution_count": 3,
     "metadata": {},
     "output_type": "execute_result"
    }
   ],
   "source": [
    "plastic.shape"
   ]
  },
  {
   "cell_type": "code",
   "execution_count": 4,
   "metadata": {},
   "outputs": [
    {
     "name": "stderr",
     "output_type": "stream",
     "text": [
      "<ipython-input-4-d1b77e6b4889>:12: SettingWithCopyWarning: \n",
      "A value is trying to be set on a copy of a slice from a DataFrame\n",
      "\n",
      "See the caveats in the documentation: https://pandas.pydata.org/pandas-docs/stable/user_guide/indexing.html#returning-a-view-versus-a-copy\n",
      "  plastic['month'][i]=p[0:3]\n",
      "C:\\Users\\Aswathy\\anaconda3\\lib\\site-packages\\pandas\\core\\indexing.py:670: SettingWithCopyWarning: \n",
      "A value is trying to be set on a copy of a slice from a DataFrame\n",
      "\n",
      "See the caveats in the documentation: https://pandas.pydata.org/pandas-docs/stable/user_guide/indexing.html#returning-a-view-versus-a-copy\n",
      "  iloc._setitem_with_indexer(indexer, value)\n"
     ]
    }
   ],
   "source": [
    "month=['Jan','Feb','Mar','Apr','May','Jun','Jul','Aug','Sep','Oct','Nov','Dec']\n",
    "\n",
    "plastic['Month'][0]\n",
    "p=plastic['Month'][0]\n",
    "p\n",
    "p[0:3]\n",
    "\n",
    "plastic['month']=0\n",
    "\n",
    "for i in range(60):\n",
    "    p=plastic['Month'][i]\n",
    "    plastic['month'][i]=p[0:3]\n",
    "    \n",
    "month_dummies= pd.DataFrame(pd.get_dummies(plastic['month']))\n",
    "\n",
    "Plastic_Sales=pd.concat((plastic,month_dummies),axis=1)\n",
    "\n",
    "\n",
    "\n",
    "Plastic_Sales['t']=np.arange(1,61)\n",
    "\n",
    "Plastic_Sales['t_square']=Plastic_Sales['t']*Plastic_Sales['t']\n",
    "\n",
    "\n",
    "\n",
    "Plastic_Sales['log_Sales']=np.log(Plastic_Sales['Sales'])\n",
    "\n"
   ]
  },
  {
   "cell_type": "code",
   "execution_count": 5,
   "metadata": {},
   "outputs": [
    {
     "data": {
      "text/plain": [
       "<AxesSubplot:>"
      ]
     },
     "execution_count": 5,
     "metadata": {},
     "output_type": "execute_result"
    },
    {
     "data": {
      "image/png": "[encoded data removed]",
      "text/plain": [
       "<Figure size 432x288 with 1 Axes>"
      ]
     },
     "metadata": {
      "needs_background": "light"
     },
     "output_type": "display_data"
    }
   ],
   "source": [
    "# Split into train & test data\n",
    "train=Plastic_Sales.head(48)\n",
    "test=Plastic_Sales.tail(12)\n",
    "\n",
    "Plastic_Sales.Sales.plot()"
   ]
  },
  {
   "cell_type": "code",
   "execution_count": 6,
   "metadata": {},
   "outputs": [
    {
     "data": {
      "text/html": [
       "<div>\n",
       "<style scoped>\n",
       "    .dataframe tbody tr th:only-of-type {\n",
       "        vertical-align: middle;\n",
       "    }\n",
       "\n",
       "    .dataframe tbody tr th {\n",
       "        vertical-align: top;\n",
       "    }\n",
       "\n",
       "    .dataframe thead th {\n",
       "        text-align: right;\n",
       "    }\n",
       "</style>\n",
       "<table border=\"1\" class=\"dataframe\">\n",
       "  <thead>\n",
       "    <tr style=\"text-align: right;\">\n",
       "      <th></th>\n",
       "      <th>Month</th>\n",
       "      <th>Sales</th>\n",
       "      <th>month</th>\n",
       "      <th>Apr</th>\n",
       "      <th>Aug</th>\n",
       "      <th>Dec</th>\n",
       "      <th>Feb</th>\n",
       "      <th>Jan</th>\n",
       "      <th>Jul</th>\n",
       "      <th>Jun</th>\n",
       "      <th>Mar</th>\n",
       "      <th>May</th>\n",
       "      <th>Nov</th>\n",
       "      <th>Oct</th>\n",
       "      <th>Sep</th>\n",
       "      <th>t</th>\n",
       "      <th>t_square</th>\n",
       "      <th>log_Sales</th>\n",
       "    </tr>\n",
       "  </thead>\n",
       "  <tbody>\n",
       "    <tr>\n",
       "      <th>0</th>\n",
       "      <td>Jan-49</td>\n",
       "      <td>742</td>\n",
       "      <td>Jan</td>\n",
       "      <td>0</td>\n",
       "      <td>0</td>\n",
       "      <td>0</td>\n",
       "      <td>0</td>\n",
       "      <td>1</td>\n",
       "      <td>0</td>\n",
       "      <td>0</td>\n",
       "      <td>0</td>\n",
       "      <td>0</td>\n",
       "      <td>0</td>\n",
       "      <td>0</td>\n",
       "      <td>0</td>\n",
       "      <td>1</td>\n",
       "      <td>1</td>\n",
       "      <td>6.609349</td>\n",
       "    </tr>\n",
       "    <tr>\n",
       "      <th>1</th>\n",
       "      <td>Feb-49</td>\n",
       "      <td>697</td>\n",
       "      <td>Feb</td>\n",
       "      <td>0</td>\n",
       "      <td>0</td>\n",
       "      <td>0</td>\n",
       "      <td>1</td>\n",
       "      <td>0</td>\n",
       "      <td>0</td>\n",
       "      <td>0</td>\n",
       "      <td>0</td>\n",
       "      <td>0</td>\n",
       "      <td>0</td>\n",
       "      <td>0</td>\n",
       "      <td>0</td>\n",
       "      <td>2</td>\n",
       "      <td>4</td>\n",
       "      <td>6.546785</td>\n",
       "    </tr>\n",
       "    <tr>\n",
       "      <th>2</th>\n",
       "      <td>Mar-49</td>\n",
       "      <td>776</td>\n",
       "      <td>Mar</td>\n",
       "      <td>0</td>\n",
       "      <td>0</td>\n",
       "      <td>0</td>\n",
       "      <td>0</td>\n",
       "      <td>0</td>\n",
       "      <td>0</td>\n",
       "      <td>0</td>\n",
       "      <td>1</td>\n",
       "      <td>0</td>\n",
       "      <td>0</td>\n",
       "      <td>0</td>\n",
       "      <td>0</td>\n",
       "      <td>3</td>\n",
       "      <td>9</td>\n",
       "      <td>6.654153</td>\n",
       "    </tr>\n",
       "    <tr>\n",
       "      <th>3</th>\n",
       "      <td>Apr-49</td>\n",
       "      <td>898</td>\n",
       "      <td>Apr</td>\n",
       "      <td>1</td>\n",
       "      <td>0</td>\n",
       "      <td>0</td>\n",
       "      <td>0</td>\n",
       "      <td>0</td>\n",
       "      <td>0</td>\n",
       "      <td>0</td>\n",
       "      <td>0</td>\n",
       "      <td>0</td>\n",
       "      <td>0</td>\n",
       "      <td>0</td>\n",
       "      <td>0</td>\n",
       "      <td>4</td>\n",
       "      <td>16</td>\n",
       "      <td>6.800170</td>\n",
       "    </tr>\n",
       "    <tr>\n",
       "      <th>4</th>\n",
       "      <td>May-49</td>\n",
       "      <td>1030</td>\n",
       "      <td>May</td>\n",
       "      <td>0</td>\n",
       "      <td>0</td>\n",
       "      <td>0</td>\n",
       "      <td>0</td>\n",
       "      <td>0</td>\n",
       "      <td>0</td>\n",
       "      <td>0</td>\n",
       "      <td>0</td>\n",
       "      <td>1</td>\n",
       "      <td>0</td>\n",
       "      <td>0</td>\n",
       "      <td>0</td>\n",
       "      <td>5</td>\n",
       "      <td>25</td>\n",
       "      <td>6.937314</td>\n",
       "    </tr>\n",
       "    <tr>\n",
       "      <th>5</th>\n",
       "      <td>Jun-49</td>\n",
       "      <td>1107</td>\n",
       "      <td>Jun</td>\n",
       "      <td>0</td>\n",
       "      <td>0</td>\n",
       "      <td>0</td>\n",
       "      <td>0</td>\n",
       "      <td>0</td>\n",
       "      <td>0</td>\n",
       "      <td>1</td>\n",
       "      <td>0</td>\n",
       "      <td>0</td>\n",
       "      <td>0</td>\n",
       "      <td>0</td>\n",
       "      <td>0</td>\n",
       "      <td>6</td>\n",
       "      <td>36</td>\n",
       "      <td>7.009409</td>\n",
       "    </tr>\n",
       "    <tr>\n",
       "      <th>6</th>\n",
       "      <td>Jul-49</td>\n",
       "      <td>1165</td>\n",
       "      <td>Jul</td>\n",
       "      <td>0</td>\n",
       "      <td>0</td>\n",
       "      <td>0</td>\n",
       "      <td>0</td>\n",
       "      <td>0</td>\n",
       "      <td>1</td>\n",
       "      <td>0</td>\n",
       "      <td>0</td>\n",
       "      <td>0</td>\n",
       "      <td>0</td>\n",
       "      <td>0</td>\n",
       "      <td>0</td>\n",
       "      <td>7</td>\n",
       "      <td>49</td>\n",
       "      <td>7.060476</td>\n",
       "    </tr>\n",
       "    <tr>\n",
       "      <th>7</th>\n",
       "      <td>Aug-49</td>\n",
       "      <td>1216</td>\n",
       "      <td>Aug</td>\n",
       "      <td>0</td>\n",
       "      <td>1</td>\n",
       "      <td>0</td>\n",
       "      <td>0</td>\n",
       "      <td>0</td>\n",
       "      <td>0</td>\n",
       "      <td>0</td>\n",
       "      <td>0</td>\n",
       "      <td>0</td>\n",
       "      <td>0</td>\n",
       "      <td>0</td>\n",
       "      <td>0</td>\n",
       "      <td>8</td>\n",
       "      <td>64</td>\n",
       "      <td>7.103322</td>\n",
       "    </tr>\n",
       "    <tr>\n",
       "      <th>8</th>\n",
       "      <td>Sep-49</td>\n",
       "      <td>1208</td>\n",
       "      <td>Sep</td>\n",
       "      <td>0</td>\n",
       "      <td>0</td>\n",
       "      <td>0</td>\n",
       "      <td>0</td>\n",
       "      <td>0</td>\n",
       "      <td>0</td>\n",
       "      <td>0</td>\n",
       "      <td>0</td>\n",
       "      <td>0</td>\n",
       "      <td>0</td>\n",
       "      <td>0</td>\n",
       "      <td>1</td>\n",
       "      <td>9</td>\n",
       "      <td>81</td>\n",
       "      <td>7.096721</td>\n",
       "    </tr>\n",
       "    <tr>\n",
       "      <th>9</th>\n",
       "      <td>Oct-49</td>\n",
       "      <td>1131</td>\n",
       "      <td>Oct</td>\n",
       "      <td>0</td>\n",
       "      <td>0</td>\n",
       "      <td>0</td>\n",
       "      <td>0</td>\n",
       "      <td>0</td>\n",
       "      <td>0</td>\n",
       "      <td>0</td>\n",
       "      <td>0</td>\n",
       "      <td>0</td>\n",
       "      <td>0</td>\n",
       "      <td>1</td>\n",
       "      <td>0</td>\n",
       "      <td>10</td>\n",
       "      <td>100</td>\n",
       "      <td>7.030857</td>\n",
       "    </tr>\n",
       "    <tr>\n",
       "      <th>10</th>\n",
       "      <td>Nov-49</td>\n",
       "      <td>971</td>\n",
       "      <td>Nov</td>\n",
       "      <td>0</td>\n",
       "      <td>0</td>\n",
       "      <td>0</td>\n",
       "      <td>0</td>\n",
       "      <td>0</td>\n",
       "      <td>0</td>\n",
       "      <td>0</td>\n",
       "      <td>0</td>\n",
       "      <td>0</td>\n",
       "      <td>1</td>\n",
       "      <td>0</td>\n",
       "      <td>0</td>\n",
       "      <td>11</td>\n",
       "      <td>121</td>\n",
       "      <td>6.878326</td>\n",
       "    </tr>\n",
       "    <tr>\n",
       "      <th>11</th>\n",
       "      <td>Dec-49</td>\n",
       "      <td>783</td>\n",
       "      <td>Dec</td>\n",
       "      <td>0</td>\n",
       "      <td>0</td>\n",
       "      <td>1</td>\n",
       "      <td>0</td>\n",
       "      <td>0</td>\n",
       "      <td>0</td>\n",
       "      <td>0</td>\n",
       "      <td>0</td>\n",
       "      <td>0</td>\n",
       "      <td>0</td>\n",
       "      <td>0</td>\n",
       "      <td>0</td>\n",
       "      <td>12</td>\n",
       "      <td>144</td>\n",
       "      <td>6.663133</td>\n",
       "    </tr>\n",
       "    <tr>\n",
       "      <th>12</th>\n",
       "      <td>Jan-50</td>\n",
       "      <td>741</td>\n",
       "      <td>Jan</td>\n",
       "      <td>0</td>\n",
       "      <td>0</td>\n",
       "      <td>0</td>\n",
       "      <td>0</td>\n",
       "      <td>1</td>\n",
       "      <td>0</td>\n",
       "      <td>0</td>\n",
       "      <td>0</td>\n",
       "      <td>0</td>\n",
       "      <td>0</td>\n",
       "      <td>0</td>\n",
       "      <td>0</td>\n",
       "      <td>13</td>\n",
       "      <td>169</td>\n",
       "      <td>6.608001</td>\n",
       "    </tr>\n",
       "    <tr>\n",
       "      <th>13</th>\n",
       "      <td>Feb-50</td>\n",
       "      <td>700</td>\n",
       "      <td>Feb</td>\n",
       "      <td>0</td>\n",
       "      <td>0</td>\n",
       "      <td>0</td>\n",
       "      <td>1</td>\n",
       "      <td>0</td>\n",
       "      <td>0</td>\n",
       "      <td>0</td>\n",
       "      <td>0</td>\n",
       "      <td>0</td>\n",
       "      <td>0</td>\n",
       "      <td>0</td>\n",
       "      <td>0</td>\n",
       "      <td>14</td>\n",
       "      <td>196</td>\n",
       "      <td>6.551080</td>\n",
       "    </tr>\n",
       "    <tr>\n",
       "      <th>14</th>\n",
       "      <td>Mar-50</td>\n",
       "      <td>774</td>\n",
       "      <td>Mar</td>\n",
       "      <td>0</td>\n",
       "      <td>0</td>\n",
       "      <td>0</td>\n",
       "      <td>0</td>\n",
       "      <td>0</td>\n",
       "      <td>0</td>\n",
       "      <td>0</td>\n",
       "      <td>1</td>\n",
       "      <td>0</td>\n",
       "      <td>0</td>\n",
       "      <td>0</td>\n",
       "      <td>0</td>\n",
       "      <td>15</td>\n",
       "      <td>225</td>\n",
       "      <td>6.651572</td>\n",
       "    </tr>\n",
       "    <tr>\n",
       "      <th>15</th>\n",
       "      <td>Apr-50</td>\n",
       "      <td>932</td>\n",
       "      <td>Apr</td>\n",
       "      <td>1</td>\n",
       "      <td>0</td>\n",
       "      <td>0</td>\n",
       "      <td>0</td>\n",
       "      <td>0</td>\n",
       "      <td>0</td>\n",
       "      <td>0</td>\n",
       "      <td>0</td>\n",
       "      <td>0</td>\n",
       "      <td>0</td>\n",
       "      <td>0</td>\n",
       "      <td>0</td>\n",
       "      <td>16</td>\n",
       "      <td>256</td>\n",
       "      <td>6.837333</td>\n",
       "    </tr>\n",
       "    <tr>\n",
       "      <th>16</th>\n",
       "      <td>May-50</td>\n",
       "      <td>1099</td>\n",
       "      <td>May</td>\n",
       "      <td>0</td>\n",
       "      <td>0</td>\n",
       "      <td>0</td>\n",
       "      <td>0</td>\n",
       "      <td>0</td>\n",
       "      <td>0</td>\n",
       "      <td>0</td>\n",
       "      <td>0</td>\n",
       "      <td>1</td>\n",
       "      <td>0</td>\n",
       "      <td>0</td>\n",
       "      <td>0</td>\n",
       "      <td>17</td>\n",
       "      <td>289</td>\n",
       "      <td>7.002156</td>\n",
       "    </tr>\n",
       "    <tr>\n",
       "      <th>17</th>\n",
       "      <td>Jun-50</td>\n",
       "      <td>1223</td>\n",
       "      <td>Jun</td>\n",
       "      <td>0</td>\n",
       "      <td>0</td>\n",
       "      <td>0</td>\n",
       "      <td>0</td>\n",
       "      <td>0</td>\n",
       "      <td>0</td>\n",
       "      <td>1</td>\n",
       "      <td>0</td>\n",
       "      <td>0</td>\n",
       "      <td>0</td>\n",
       "      <td>0</td>\n",
       "      <td>0</td>\n",
       "      <td>18</td>\n",
       "      <td>324</td>\n",
       "      <td>7.109062</td>\n",
       "    </tr>\n",
       "    <tr>\n",
       "      <th>18</th>\n",
       "      <td>Jul-50</td>\n",
       "      <td>1290</td>\n",
       "      <td>Jul</td>\n",
       "      <td>0</td>\n",
       "      <td>0</td>\n",
       "      <td>0</td>\n",
       "      <td>0</td>\n",
       "      <td>0</td>\n",
       "      <td>1</td>\n",
       "      <td>0</td>\n",
       "      <td>0</td>\n",
       "      <td>0</td>\n",
       "      <td>0</td>\n",
       "      <td>0</td>\n",
       "      <td>0</td>\n",
       "      <td>19</td>\n",
       "      <td>361</td>\n",
       "      <td>7.162397</td>\n",
       "    </tr>\n",
       "    <tr>\n",
       "      <th>19</th>\n",
       "      <td>Aug-50</td>\n",
       "      <td>1349</td>\n",
       "      <td>Aug</td>\n",
       "      <td>0</td>\n",
       "      <td>1</td>\n",
       "      <td>0</td>\n",
       "      <td>0</td>\n",
       "      <td>0</td>\n",
       "      <td>0</td>\n",
       "      <td>0</td>\n",
       "      <td>0</td>\n",
       "      <td>0</td>\n",
       "      <td>0</td>\n",
       "      <td>0</td>\n",
       "      <td>0</td>\n",
       "      <td>20</td>\n",
       "      <td>400</td>\n",
       "      <td>7.207119</td>\n",
       "    </tr>\n",
       "    <tr>\n",
       "      <th>20</th>\n",
       "      <td>Sep-50</td>\n",
       "      <td>1341</td>\n",
       "      <td>Sep</td>\n",
       "      <td>0</td>\n",
       "      <td>0</td>\n",
       "      <td>0</td>\n",
       "      <td>0</td>\n",
       "      <td>0</td>\n",
       "      <td>0</td>\n",
       "      <td>0</td>\n",
       "      <td>0</td>\n",
       "      <td>0</td>\n",
       "      <td>0</td>\n",
       "      <td>0</td>\n",
       "      <td>1</td>\n",
       "      <td>21</td>\n",
       "      <td>441</td>\n",
       "      <td>7.201171</td>\n",
       "    </tr>\n",
       "    <tr>\n",
       "      <th>21</th>\n",
       "      <td>Oct-50</td>\n",
       "      <td>1296</td>\n",
       "      <td>Oct</td>\n",
       "      <td>0</td>\n",
       "      <td>0</td>\n",
       "      <td>0</td>\n",
       "      <td>0</td>\n",
       "      <td>0</td>\n",
       "      <td>0</td>\n",
       "      <td>0</td>\n",
       "      <td>0</td>\n",
       "      <td>0</td>\n",
       "      <td>0</td>\n",
       "      <td>1</td>\n",
       "      <td>0</td>\n",
       "      <td>22</td>\n",
       "      <td>484</td>\n",
       "      <td>7.167038</td>\n",
       "    </tr>\n",
       "    <tr>\n",
       "      <th>22</th>\n",
       "      <td>Nov-50</td>\n",
       "      <td>1066</td>\n",
       "      <td>Nov</td>\n",
       "      <td>0</td>\n",
       "      <td>0</td>\n",
       "      <td>0</td>\n",
       "      <td>0</td>\n",
       "      <td>0</td>\n",
       "      <td>0</td>\n",
       "      <td>0</td>\n",
       "      <td>0</td>\n",
       "      <td>0</td>\n",
       "      <td>1</td>\n",
       "      <td>0</td>\n",
       "      <td>0</td>\n",
       "      <td>23</td>\n",
       "      <td>529</td>\n",
       "      <td>6.971669</td>\n",
       "    </tr>\n",
       "    <tr>\n",
       "      <th>23</th>\n",
       "      <td>Dec-50</td>\n",
       "      <td>901</td>\n",
       "      <td>Dec</td>\n",
       "      <td>0</td>\n",
       "      <td>0</td>\n",
       "      <td>1</td>\n",
       "      <td>0</td>\n",
       "      <td>0</td>\n",
       "      <td>0</td>\n",
       "      <td>0</td>\n",
       "      <td>0</td>\n",
       "      <td>0</td>\n",
       "      <td>0</td>\n",
       "      <td>0</td>\n",
       "      <td>0</td>\n",
       "      <td>24</td>\n",
       "      <td>576</td>\n",
       "      <td>6.803505</td>\n",
       "    </tr>\n",
       "    <tr>\n",
       "      <th>24</th>\n",
       "      <td>Jan-51</td>\n",
       "      <td>896</td>\n",
       "      <td>Jan</td>\n",
       "      <td>0</td>\n",
       "      <td>0</td>\n",
       "      <td>0</td>\n",
       "      <td>0</td>\n",
       "      <td>1</td>\n",
       "      <td>0</td>\n",
       "      <td>0</td>\n",
       "      <td>0</td>\n",
       "      <td>0</td>\n",
       "      <td>0</td>\n",
       "      <td>0</td>\n",
       "      <td>0</td>\n",
       "      <td>25</td>\n",
       "      <td>625</td>\n",
       "      <td>6.797940</td>\n",
       "    </tr>\n",
       "    <tr>\n",
       "      <th>25</th>\n",
       "      <td>Feb-51</td>\n",
       "      <td>793</td>\n",
       "      <td>Feb</td>\n",
       "      <td>0</td>\n",
       "      <td>0</td>\n",
       "      <td>0</td>\n",
       "      <td>1</td>\n",
       "      <td>0</td>\n",
       "      <td>0</td>\n",
       "      <td>0</td>\n",
       "      <td>0</td>\n",
       "      <td>0</td>\n",
       "      <td>0</td>\n",
       "      <td>0</td>\n",
       "      <td>0</td>\n",
       "      <td>26</td>\n",
       "      <td>676</td>\n",
       "      <td>6.675823</td>\n",
       "    </tr>\n",
       "    <tr>\n",
       "      <th>26</th>\n",
       "      <td>Mar-51</td>\n",
       "      <td>885</td>\n",
       "      <td>Mar</td>\n",
       "      <td>0</td>\n",
       "      <td>0</td>\n",
       "      <td>0</td>\n",
       "      <td>0</td>\n",
       "      <td>0</td>\n",
       "      <td>0</td>\n",
       "      <td>0</td>\n",
       "      <td>1</td>\n",
       "      <td>0</td>\n",
       "      <td>0</td>\n",
       "      <td>0</td>\n",
       "      <td>0</td>\n",
       "      <td>27</td>\n",
       "      <td>729</td>\n",
       "      <td>6.785588</td>\n",
       "    </tr>\n",
       "    <tr>\n",
       "      <th>27</th>\n",
       "      <td>Apr-51</td>\n",
       "      <td>1055</td>\n",
       "      <td>Apr</td>\n",
       "      <td>1</td>\n",
       "      <td>0</td>\n",
       "      <td>0</td>\n",
       "      <td>0</td>\n",
       "      <td>0</td>\n",
       "      <td>0</td>\n",
       "      <td>0</td>\n",
       "      <td>0</td>\n",
       "      <td>0</td>\n",
       "      <td>0</td>\n",
       "      <td>0</td>\n",
       "      <td>0</td>\n",
       "      <td>28</td>\n",
       "      <td>784</td>\n",
       "      <td>6.961296</td>\n",
       "    </tr>\n",
       "    <tr>\n",
       "      <th>28</th>\n",
       "      <td>May-51</td>\n",
       "      <td>1204</td>\n",
       "      <td>May</td>\n",
       "      <td>0</td>\n",
       "      <td>0</td>\n",
       "      <td>0</td>\n",
       "      <td>0</td>\n",
       "      <td>0</td>\n",
       "      <td>0</td>\n",
       "      <td>0</td>\n",
       "      <td>0</td>\n",
       "      <td>1</td>\n",
       "      <td>0</td>\n",
       "      <td>0</td>\n",
       "      <td>0</td>\n",
       "      <td>29</td>\n",
       "      <td>841</td>\n",
       "      <td>7.093405</td>\n",
       "    </tr>\n",
       "    <tr>\n",
       "      <th>29</th>\n",
       "      <td>Jun-51</td>\n",
       "      <td>1326</td>\n",
       "      <td>Jun</td>\n",
       "      <td>0</td>\n",
       "      <td>0</td>\n",
       "      <td>0</td>\n",
       "      <td>0</td>\n",
       "      <td>0</td>\n",
       "      <td>0</td>\n",
       "      <td>1</td>\n",
       "      <td>0</td>\n",
       "      <td>0</td>\n",
       "      <td>0</td>\n",
       "      <td>0</td>\n",
       "      <td>0</td>\n",
       "      <td>30</td>\n",
       "      <td>900</td>\n",
       "      <td>7.189922</td>\n",
       "    </tr>\n",
       "    <tr>\n",
       "      <th>30</th>\n",
       "      <td>Jul-51</td>\n",
       "      <td>1303</td>\n",
       "      <td>Jul</td>\n",
       "      <td>0</td>\n",
       "      <td>0</td>\n",
       "      <td>0</td>\n",
       "      <td>0</td>\n",
       "      <td>0</td>\n",
       "      <td>1</td>\n",
       "      <td>0</td>\n",
       "      <td>0</td>\n",
       "      <td>0</td>\n",
       "      <td>0</td>\n",
       "      <td>0</td>\n",
       "      <td>0</td>\n",
       "      <td>31</td>\n",
       "      <td>961</td>\n",
       "      <td>7.172425</td>\n",
       "    </tr>\n",
       "    <tr>\n",
       "      <th>31</th>\n",
       "      <td>Aug-51</td>\n",
       "      <td>1436</td>\n",
       "      <td>Aug</td>\n",
       "      <td>0</td>\n",
       "      <td>1</td>\n",
       "      <td>0</td>\n",
       "      <td>0</td>\n",
       "      <td>0</td>\n",
       "      <td>0</td>\n",
       "      <td>0</td>\n",
       "      <td>0</td>\n",
       "      <td>0</td>\n",
       "      <td>0</td>\n",
       "      <td>0</td>\n",
       "      <td>0</td>\n",
       "      <td>32</td>\n",
       "      <td>1024</td>\n",
       "      <td>7.269617</td>\n",
       "    </tr>\n",
       "    <tr>\n",
       "      <th>32</th>\n",
       "      <td>Sep-51</td>\n",
       "      <td>1473</td>\n",
       "      <td>Sep</td>\n",
       "      <td>0</td>\n",
       "      <td>0</td>\n",
       "      <td>0</td>\n",
       "      <td>0</td>\n",
       "      <td>0</td>\n",
       "      <td>0</td>\n",
       "      <td>0</td>\n",
       "      <td>0</td>\n",
       "      <td>0</td>\n",
       "      <td>0</td>\n",
       "      <td>0</td>\n",
       "      <td>1</td>\n",
       "      <td>33</td>\n",
       "      <td>1089</td>\n",
       "      <td>7.295056</td>\n",
       "    </tr>\n",
       "    <tr>\n",
       "      <th>33</th>\n",
       "      <td>Oct-51</td>\n",
       "      <td>1453</td>\n",
       "      <td>Oct</td>\n",
       "      <td>0</td>\n",
       "      <td>0</td>\n",
       "      <td>0</td>\n",
       "      <td>0</td>\n",
       "      <td>0</td>\n",
       "      <td>0</td>\n",
       "      <td>0</td>\n",
       "      <td>0</td>\n",
       "      <td>0</td>\n",
       "      <td>0</td>\n",
       "      <td>1</td>\n",
       "      <td>0</td>\n",
       "      <td>34</td>\n",
       "      <td>1156</td>\n",
       "      <td>7.281386</td>\n",
       "    </tr>\n",
       "    <tr>\n",
       "      <th>34</th>\n",
       "      <td>Nov-51</td>\n",
       "      <td>1170</td>\n",
       "      <td>Nov</td>\n",
       "      <td>0</td>\n",
       "      <td>0</td>\n",
       "      <td>0</td>\n",
       "      <td>0</td>\n",
       "      <td>0</td>\n",
       "      <td>0</td>\n",
       "      <td>0</td>\n",
       "      <td>0</td>\n",
       "      <td>0</td>\n",
       "      <td>1</td>\n",
       "      <td>0</td>\n",
       "      <td>0</td>\n",
       "      <td>35</td>\n",
       "      <td>1225</td>\n",
       "      <td>7.064759</td>\n",
       "    </tr>\n",
       "    <tr>\n",
       "      <th>35</th>\n",
       "      <td>Dec-51</td>\n",
       "      <td>1023</td>\n",
       "      <td>Dec</td>\n",
       "      <td>0</td>\n",
       "      <td>0</td>\n",
       "      <td>1</td>\n",
       "      <td>0</td>\n",
       "      <td>0</td>\n",
       "      <td>0</td>\n",
       "      <td>0</td>\n",
       "      <td>0</td>\n",
       "      <td>0</td>\n",
       "      <td>0</td>\n",
       "      <td>0</td>\n",
       "      <td>0</td>\n",
       "      <td>36</td>\n",
       "      <td>1296</td>\n",
       "      <td>6.930495</td>\n",
       "    </tr>\n",
       "    <tr>\n",
       "      <th>36</th>\n",
       "      <td>Jan-52</td>\n",
       "      <td>951</td>\n",
       "      <td>Jan</td>\n",
       "      <td>0</td>\n",
       "      <td>0</td>\n",
       "      <td>0</td>\n",
       "      <td>0</td>\n",
       "      <td>1</td>\n",
       "      <td>0</td>\n",
       "      <td>0</td>\n",
       "      <td>0</td>\n",
       "      <td>0</td>\n",
       "      <td>0</td>\n",
       "      <td>0</td>\n",
       "      <td>0</td>\n",
       "      <td>37</td>\n",
       "      <td>1369</td>\n",
       "      <td>6.857514</td>\n",
       "    </tr>\n",
       "    <tr>\n",
       "      <th>37</th>\n",
       "      <td>Feb-52</td>\n",
       "      <td>861</td>\n",
       "      <td>Feb</td>\n",
       "      <td>0</td>\n",
       "      <td>0</td>\n",
       "      <td>0</td>\n",
       "      <td>1</td>\n",
       "      <td>0</td>\n",
       "      <td>0</td>\n",
       "      <td>0</td>\n",
       "      <td>0</td>\n",
       "      <td>0</td>\n",
       "      <td>0</td>\n",
       "      <td>0</td>\n",
       "      <td>0</td>\n",
       "      <td>38</td>\n",
       "      <td>1444</td>\n",
       "      <td>6.758095</td>\n",
       "    </tr>\n",
       "    <tr>\n",
       "      <th>38</th>\n",
       "      <td>Mar-52</td>\n",
       "      <td>938</td>\n",
       "      <td>Mar</td>\n",
       "      <td>0</td>\n",
       "      <td>0</td>\n",
       "      <td>0</td>\n",
       "      <td>0</td>\n",
       "      <td>0</td>\n",
       "      <td>0</td>\n",
       "      <td>0</td>\n",
       "      <td>1</td>\n",
       "      <td>0</td>\n",
       "      <td>0</td>\n",
       "      <td>0</td>\n",
       "      <td>0</td>\n",
       "      <td>39</td>\n",
       "      <td>1521</td>\n",
       "      <td>6.843750</td>\n",
       "    </tr>\n",
       "    <tr>\n",
       "      <th>39</th>\n",
       "      <td>Apr-52</td>\n",
       "      <td>1109</td>\n",
       "      <td>Apr</td>\n",
       "      <td>1</td>\n",
       "      <td>0</td>\n",
       "      <td>0</td>\n",
       "      <td>0</td>\n",
       "      <td>0</td>\n",
       "      <td>0</td>\n",
       "      <td>0</td>\n",
       "      <td>0</td>\n",
       "      <td>0</td>\n",
       "      <td>0</td>\n",
       "      <td>0</td>\n",
       "      <td>0</td>\n",
       "      <td>40</td>\n",
       "      <td>1600</td>\n",
       "      <td>7.011214</td>\n",
       "    </tr>\n",
       "    <tr>\n",
       "      <th>40</th>\n",
       "      <td>May-52</td>\n",
       "      <td>1274</td>\n",
       "      <td>May</td>\n",
       "      <td>0</td>\n",
       "      <td>0</td>\n",
       "      <td>0</td>\n",
       "      <td>0</td>\n",
       "      <td>0</td>\n",
       "      <td>0</td>\n",
       "      <td>0</td>\n",
       "      <td>0</td>\n",
       "      <td>1</td>\n",
       "      <td>0</td>\n",
       "      <td>0</td>\n",
       "      <td>0</td>\n",
       "      <td>41</td>\n",
       "      <td>1681</td>\n",
       "      <td>7.149917</td>\n",
       "    </tr>\n",
       "    <tr>\n",
       "      <th>41</th>\n",
       "      <td>Jun-52</td>\n",
       "      <td>1422</td>\n",
       "      <td>Jun</td>\n",
       "      <td>0</td>\n",
       "      <td>0</td>\n",
       "      <td>0</td>\n",
       "      <td>0</td>\n",
       "      <td>0</td>\n",
       "      <td>0</td>\n",
       "      <td>1</td>\n",
       "      <td>0</td>\n",
       "      <td>0</td>\n",
       "      <td>0</td>\n",
       "      <td>0</td>\n",
       "      <td>0</td>\n",
       "      <td>42</td>\n",
       "      <td>1764</td>\n",
       "      <td>7.259820</td>\n",
       "    </tr>\n",
       "    <tr>\n",
       "      <th>42</th>\n",
       "      <td>Jul-52</td>\n",
       "      <td>1486</td>\n",
       "      <td>Jul</td>\n",
       "      <td>0</td>\n",
       "      <td>0</td>\n",
       "      <td>0</td>\n",
       "      <td>0</td>\n",
       "      <td>0</td>\n",
       "      <td>1</td>\n",
       "      <td>0</td>\n",
       "      <td>0</td>\n",
       "      <td>0</td>\n",
       "      <td>0</td>\n",
       "      <td>0</td>\n",
       "      <td>0</td>\n",
       "      <td>43</td>\n",
       "      <td>1849</td>\n",
       "      <td>7.303843</td>\n",
       "    </tr>\n",
       "    <tr>\n",
       "      <th>43</th>\n",
       "      <td>Aug-52</td>\n",
       "      <td>1555</td>\n",
       "      <td>Aug</td>\n",
       "      <td>0</td>\n",
       "      <td>1</td>\n",
       "      <td>0</td>\n",
       "      <td>0</td>\n",
       "      <td>0</td>\n",
       "      <td>0</td>\n",
       "      <td>0</td>\n",
       "      <td>0</td>\n",
       "      <td>0</td>\n",
       "      <td>0</td>\n",
       "      <td>0</td>\n",
       "      <td>0</td>\n",
       "      <td>44</td>\n",
       "      <td>1936</td>\n",
       "      <td>7.349231</td>\n",
       "    </tr>\n",
       "    <tr>\n",
       "      <th>44</th>\n",
       "      <td>Sep-52</td>\n",
       "      <td>1604</td>\n",
       "      <td>Sep</td>\n",
       "      <td>0</td>\n",
       "      <td>0</td>\n",
       "      <td>0</td>\n",
       "      <td>0</td>\n",
       "      <td>0</td>\n",
       "      <td>0</td>\n",
       "      <td>0</td>\n",
       "      <td>0</td>\n",
       "      <td>0</td>\n",
       "      <td>0</td>\n",
       "      <td>0</td>\n",
       "      <td>1</td>\n",
       "      <td>45</td>\n",
       "      <td>2025</td>\n",
       "      <td>7.380256</td>\n",
       "    </tr>\n",
       "    <tr>\n",
       "      <th>45</th>\n",
       "      <td>Oct-52</td>\n",
       "      <td>1600</td>\n",
       "      <td>Oct</td>\n",
       "      <td>0</td>\n",
       "      <td>0</td>\n",
       "      <td>0</td>\n",
       "      <td>0</td>\n",
       "      <td>0</td>\n",
       "      <td>0</td>\n",
       "      <td>0</td>\n",
       "      <td>0</td>\n",
       "      <td>0</td>\n",
       "      <td>0</td>\n",
       "      <td>1</td>\n",
       "      <td>0</td>\n",
       "      <td>46</td>\n",
       "      <td>2116</td>\n",
       "      <td>7.377759</td>\n",
       "    </tr>\n",
       "    <tr>\n",
       "      <th>46</th>\n",
       "      <td>Nov-52</td>\n",
       "      <td>1403</td>\n",
       "      <td>Nov</td>\n",
       "      <td>0</td>\n",
       "      <td>0</td>\n",
       "      <td>0</td>\n",
       "      <td>0</td>\n",
       "      <td>0</td>\n",
       "      <td>0</td>\n",
       "      <td>0</td>\n",
       "      <td>0</td>\n",
       "      <td>0</td>\n",
       "      <td>1</td>\n",
       "      <td>0</td>\n",
       "      <td>0</td>\n",
       "      <td>47</td>\n",
       "      <td>2209</td>\n",
       "      <td>7.246368</td>\n",
       "    </tr>\n",
       "    <tr>\n",
       "      <th>47</th>\n",
       "      <td>Dec-52</td>\n",
       "      <td>1209</td>\n",
       "      <td>Dec</td>\n",
       "      <td>0</td>\n",
       "      <td>0</td>\n",
       "      <td>1</td>\n",
       "      <td>0</td>\n",
       "      <td>0</td>\n",
       "      <td>0</td>\n",
       "      <td>0</td>\n",
       "      <td>0</td>\n",
       "      <td>0</td>\n",
       "      <td>0</td>\n",
       "      <td>0</td>\n",
       "      <td>0</td>\n",
       "      <td>48</td>\n",
       "      <td>2304</td>\n",
       "      <td>7.097549</td>\n",
       "    </tr>\n",
       "    <tr>\n",
       "      <th>48</th>\n",
       "      <td>Jan-53</td>\n",
       "      <td>1030</td>\n",
       "      <td>Jan</td>\n",
       "      <td>0</td>\n",
       "      <td>0</td>\n",
       "      <td>0</td>\n",
       "      <td>0</td>\n",
       "      <td>1</td>\n",
       "      <td>0</td>\n",
       "      <td>0</td>\n",
       "      <td>0</td>\n",
       "      <td>0</td>\n",
       "      <td>0</td>\n",
       "      <td>0</td>\n",
       "      <td>0</td>\n",
       "      <td>49</td>\n",
       "      <td>2401</td>\n",
       "      <td>6.937314</td>\n",
       "    </tr>\n",
       "    <tr>\n",
       "      <th>49</th>\n",
       "      <td>Feb-53</td>\n",
       "      <td>1032</td>\n",
       "      <td>Feb</td>\n",
       "      <td>0</td>\n",
       "      <td>0</td>\n",
       "      <td>0</td>\n",
       "      <td>1</td>\n",
       "      <td>0</td>\n",
       "      <td>0</td>\n",
       "      <td>0</td>\n",
       "      <td>0</td>\n",
       "      <td>0</td>\n",
       "      <td>0</td>\n",
       "      <td>0</td>\n",
       "      <td>0</td>\n",
       "      <td>50</td>\n",
       "      <td>2500</td>\n",
       "      <td>6.939254</td>\n",
       "    </tr>\n",
       "    <tr>\n",
       "      <th>50</th>\n",
       "      <td>Mar-53</td>\n",
       "      <td>1126</td>\n",
       "      <td>Mar</td>\n",
       "      <td>0</td>\n",
       "      <td>0</td>\n",
       "      <td>0</td>\n",
       "      <td>0</td>\n",
       "      <td>0</td>\n",
       "      <td>0</td>\n",
       "      <td>0</td>\n",
       "      <td>1</td>\n",
       "      <td>0</td>\n",
       "      <td>0</td>\n",
       "      <td>0</td>\n",
       "      <td>0</td>\n",
       "      <td>51</td>\n",
       "      <td>2601</td>\n",
       "      <td>7.026427</td>\n",
       "    </tr>\n",
       "    <tr>\n",
       "      <th>51</th>\n",
       "      <td>Apr-53</td>\n",
       "      <td>1285</td>\n",
       "      <td>Apr</td>\n",
       "      <td>1</td>\n",
       "      <td>0</td>\n",
       "      <td>0</td>\n",
       "      <td>0</td>\n",
       "      <td>0</td>\n",
       "      <td>0</td>\n",
       "      <td>0</td>\n",
       "      <td>0</td>\n",
       "      <td>0</td>\n",
       "      <td>0</td>\n",
       "      <td>0</td>\n",
       "      <td>0</td>\n",
       "      <td>52</td>\n",
       "      <td>2704</td>\n",
       "      <td>7.158514</td>\n",
       "    </tr>\n",
       "    <tr>\n",
       "      <th>52</th>\n",
       "      <td>May-53</td>\n",
       "      <td>1468</td>\n",
       "      <td>May</td>\n",
       "      <td>0</td>\n",
       "      <td>0</td>\n",
       "      <td>0</td>\n",
       "      <td>0</td>\n",
       "      <td>0</td>\n",
       "      <td>0</td>\n",
       "      <td>0</td>\n",
       "      <td>0</td>\n",
       "      <td>1</td>\n",
       "      <td>0</td>\n",
       "      <td>0</td>\n",
       "      <td>0</td>\n",
       "      <td>53</td>\n",
       "      <td>2809</td>\n",
       "      <td>7.291656</td>\n",
       "    </tr>\n",
       "    <tr>\n",
       "      <th>53</th>\n",
       "      <td>Jun-53</td>\n",
       "      <td>1637</td>\n",
       "      <td>Jun</td>\n",
       "      <td>0</td>\n",
       "      <td>0</td>\n",
       "      <td>0</td>\n",
       "      <td>0</td>\n",
       "      <td>0</td>\n",
       "      <td>0</td>\n",
       "      <td>1</td>\n",
       "      <td>0</td>\n",
       "      <td>0</td>\n",
       "      <td>0</td>\n",
       "      <td>0</td>\n",
       "      <td>0</td>\n",
       "      <td>54</td>\n",
       "      <td>2916</td>\n",
       "      <td>7.400621</td>\n",
       "    </tr>\n",
       "    <tr>\n",
       "      <th>54</th>\n",
       "      <td>Jul-53</td>\n",
       "      <td>1611</td>\n",
       "      <td>Jul</td>\n",
       "      <td>0</td>\n",
       "      <td>0</td>\n",
       "      <td>0</td>\n",
       "      <td>0</td>\n",
       "      <td>0</td>\n",
       "      <td>1</td>\n",
       "      <td>0</td>\n",
       "      <td>0</td>\n",
       "      <td>0</td>\n",
       "      <td>0</td>\n",
       "      <td>0</td>\n",
       "      <td>0</td>\n",
       "      <td>55</td>\n",
       "      <td>3025</td>\n",
       "      <td>7.384610</td>\n",
       "    </tr>\n",
       "    <tr>\n",
       "      <th>55</th>\n",
       "      <td>Aug-53</td>\n",
       "      <td>1608</td>\n",
       "      <td>Aug</td>\n",
       "      <td>0</td>\n",
       "      <td>1</td>\n",
       "      <td>0</td>\n",
       "      <td>0</td>\n",
       "      <td>0</td>\n",
       "      <td>0</td>\n",
       "      <td>0</td>\n",
       "      <td>0</td>\n",
       "      <td>0</td>\n",
       "      <td>0</td>\n",
       "      <td>0</td>\n",
       "      <td>0</td>\n",
       "      <td>56</td>\n",
       "      <td>3136</td>\n",
       "      <td>7.382746</td>\n",
       "    </tr>\n",
       "    <tr>\n",
       "      <th>56</th>\n",
       "      <td>Sep-53</td>\n",
       "      <td>1528</td>\n",
       "      <td>Sep</td>\n",
       "      <td>0</td>\n",
       "      <td>0</td>\n",
       "      <td>0</td>\n",
       "      <td>0</td>\n",
       "      <td>0</td>\n",
       "      <td>0</td>\n",
       "      <td>0</td>\n",
       "      <td>0</td>\n",
       "      <td>0</td>\n",
       "      <td>0</td>\n",
       "      <td>0</td>\n",
       "      <td>1</td>\n",
       "      <td>57</td>\n",
       "      <td>3249</td>\n",
       "      <td>7.331715</td>\n",
       "    </tr>\n",
       "    <tr>\n",
       "      <th>57</th>\n",
       "      <td>Oct-53</td>\n",
       "      <td>1420</td>\n",
       "      <td>Oct</td>\n",
       "      <td>0</td>\n",
       "      <td>0</td>\n",
       "      <td>0</td>\n",
       "      <td>0</td>\n",
       "      <td>0</td>\n",
       "      <td>0</td>\n",
       "      <td>0</td>\n",
       "      <td>0</td>\n",
       "      <td>0</td>\n",
       "      <td>0</td>\n",
       "      <td>1</td>\n",
       "      <td>0</td>\n",
       "      <td>58</td>\n",
       "      <td>3364</td>\n",
       "      <td>7.258412</td>\n",
       "    </tr>\n",
       "    <tr>\n",
       "      <th>58</th>\n",
       "      <td>Nov-53</td>\n",
       "      <td>1119</td>\n",
       "      <td>Nov</td>\n",
       "      <td>0</td>\n",
       "      <td>0</td>\n",
       "      <td>0</td>\n",
       "      <td>0</td>\n",
       "      <td>0</td>\n",
       "      <td>0</td>\n",
       "      <td>0</td>\n",
       "      <td>0</td>\n",
       "      <td>0</td>\n",
       "      <td>1</td>\n",
       "      <td>0</td>\n",
       "      <td>0</td>\n",
       "      <td>59</td>\n",
       "      <td>3481</td>\n",
       "      <td>7.020191</td>\n",
       "    </tr>\n",
       "    <tr>\n",
       "      <th>59</th>\n",
       "      <td>Dec-53</td>\n",
       "      <td>1013</td>\n",
       "      <td>Dec</td>\n",
       "      <td>0</td>\n",
       "      <td>0</td>\n",
       "      <td>1</td>\n",
       "      <td>0</td>\n",
       "      <td>0</td>\n",
       "      <td>0</td>\n",
       "      <td>0</td>\n",
       "      <td>0</td>\n",
       "      <td>0</td>\n",
       "      <td>0</td>\n",
       "      <td>0</td>\n",
       "      <td>0</td>\n",
       "      <td>60</td>\n",
       "      <td>3600</td>\n",
       "      <td>6.920672</td>\n",
       "    </tr>\n",
       "  </tbody>\n",
       "</table>\n",
       "</div>"
      ],
      "text/plain": [
       "     Month  Sales month  Apr  Aug  Dec  Feb  Jan  Jul  Jun  Mar  May  Nov  \\\n",
       "0   Jan-49    742   Jan    0    0    0    0    1    0    0    0    0    0   \n",
       "1   Feb-49    697   Feb    0    0    0    1    0    0    0    0    0    0   \n",
       "2   Mar-49    776   Mar    0    0    0    0    0    0    0    1    0    0   \n",
       "3   Apr-49    898   Apr    1    0    0    0    0    0    0    0    0    0   \n",
       "4   May-49   1030   May    0    0    0    0    0    0    0    0    1    0   \n",
       "5   Jun-49   1107   Jun    0    0    0    0    0    0    1    0    0    0   \n",
       "6   Jul-49   1165   Jul    0    0    0    0    0    1    0    0    0    0   \n",
       "7   Aug-49   1216   Aug    0    1    0    0    0    0    0    0    0    0   \n",
       "8   Sep-49   1208   Sep    0    0    0    0    0    0    0    0    0    0   \n",
       "9   Oct-49   1131   Oct    0    0    0    0    0    0    0    0    0    0   \n",
       "10  Nov-49    971   Nov    0    0    0    0    0    0    0    0    0    1   \n",
       "11  Dec-49    783   Dec    0    0    1    0    0    0    0    0    0    0   \n",
       "12  Jan-50    741   Jan    0    0    0    0    1    0    0    0    0    0   \n",
       "13  Feb-50    700   Feb    0    0    0    1    0    0    0    0    0    0   \n",
       "14  Mar-50    774   Mar    0    0    0    0    0    0    0    1    0    0   \n",
       "15  Apr-50    932   Apr    1    0    0    0    0    0    0    0    0    0   \n",
       "16  May-50   1099   May    0    0    0    0    0    0    0    0    1    0   \n",
       "17  Jun-50   1223   Jun    0    0    0    0    0    0    1    0    0    0   \n",
       "18  Jul-50   1290   Jul    0    0    0    0    0    1    0    0    0    0   \n",
       "19  Aug-50   1349   Aug    0    1    0    0    0    0    0    0    0    0   \n",
       "20  Sep-50   1341   Sep    0    0    0    0    0    0    0    0    0    0   \n",
       "21  Oct-50   1296   Oct    0    0    0    0    0    0    0    0    0    0   \n",
       "22  Nov-50   1066   Nov    0    0    0    0    0    0    0    0    0    1   \n",
       "23  Dec-50    901   Dec    0    0    1    0    0    0    0    0    0    0   \n",
       "24  Jan-51    896   Jan    0    0    0    0    1    0    0    0    0    0   \n",
       "25  Feb-51    793   Feb    0    0    0    1    0    0    0    0    0    0   \n",
       "26  Mar-51    885   Mar    0    0    0    0    0    0    0    1    0    0   \n",
       "27  Apr-51   1055   Apr    1    0    0    0    0    0    0    0    0    0   \n",
       "28  May-51   1204   May    0    0    0    0    0    0    0    0    1    0   \n",
       "29  Jun-51   1326   Jun    0    0    0    0    0    0    1    0    0    0   \n",
       "30  Jul-51   1303   Jul    0    0    0    0    0    1    0    0    0    0   \n",
       "31  Aug-51   1436   Aug    0    1    0    0    0    0    0    0    0    0   \n",
       "32  Sep-51   1473   Sep    0    0    0    0    0    0    0    0    0    0   \n",
       "33  Oct-51   1453   Oct    0    0    0    0    0    0    0    0    0    0   \n",
       "34  Nov-51   1170   Nov    0    0    0    0    0    0    0    0    0    1   \n",
       "35  Dec-51   1023   Dec    0    0    1    0    0    0    0    0    0    0   \n",
       "36  Jan-52    951   Jan    0    0    0    0    1    0    0    0    0    0   \n",
       "37  Feb-52    861   Feb    0    0    0    1    0    0    0    0    0    0   \n",
       "38  Mar-52    938   Mar    0    0    0    0    0    0    0    1    0    0   \n",
       "39  Apr-52   1109   Apr    1    0    0    0    0    0    0    0    0    0   \n",
       "40  May-52   1274   May    0    0    0    0    0    0    0    0    1    0   \n",
       "41  Jun-52   1422   Jun    0    0    0    0    0    0    1    0    0    0   \n",
       "42  Jul-52   1486   Jul    0    0    0    0    0    1    0    0    0    0   \n",
       "43  Aug-52   1555   Aug    0    1    0    0    0    0    0    0    0    0   \n",
       "44  Sep-52   1604   Sep    0    0    0    0    0    0    0    0    0    0   \n",
       "45  Oct-52   1600   Oct    0    0    0    0    0    0    0    0    0    0   \n",
       "46  Nov-52   1403   Nov    0    0    0    0    0    0    0    0    0    1   \n",
       "47  Dec-52   1209   Dec    0    0    1    0    0    0    0    0    0    0   \n",
       "48  Jan-53   1030   Jan    0    0    0    0    1    0    0    0    0    0   \n",
       "49  Feb-53   1032   Feb    0    0    0    1    0    0    0    0    0    0   \n",
       "50  Mar-53   1126   Mar    0    0    0    0    0    0    0    1    0    0   \n",
       "51  Apr-53   1285   Apr    1    0    0    0    0    0    0    0    0    0   \n",
       "52  May-53   1468   May    0    0    0    0    0    0    0    0    1    0   \n",
       "53  Jun-53   1637   Jun    0    0    0    0    0    0    1    0    0    0   \n",
       "54  Jul-53   1611   Jul    0    0    0    0    0    1    0    0    0    0   \n",
       "55  Aug-53   1608   Aug    0    1    0    0    0    0    0    0    0    0   \n",
       "56  Sep-53   1528   Sep    0    0    0    0    0    0    0    0    0    0   \n",
       "57  Oct-53   1420   Oct    0    0    0    0    0    0    0    0    0    0   \n",
       "58  Nov-53   1119   Nov    0    0    0    0    0    0    0    0    0    1   \n",
       "59  Dec-53   1013   Dec    0    0    1    0    0    0    0    0    0    0   \n",
       "\n",
       "    Oct  Sep   t  t_square  log_Sales  \n",
       "0     0    0   1         1   6.609349  \n",
       "1     0    0   2         4   6.546785  \n",
       "2     0    0   3         9   6.654153  \n",
       "3     0    0   4        16   6.800170  \n",
       "4     0    0   5        25   6.937314  \n",
       "5     0    0   6        36   7.009409  \n",
       "6     0    0   7        49   7.060476  \n",
       "7     0    0   8        64   7.103322  \n",
       "8     0    1   9        81   7.096721  \n",
       "9     1    0  10       100   7.030857  \n",
       "10    0    0  11       121   6.878326  \n",
       "11    0    0  12       144   6.663133  \n",
       "12    0    0  13       169   6.608001  \n",
       "13    0    0  14       196   6.551080  \n",
       "14    0    0  15       225   6.651572  \n",
       "15    0    0  16       256   6.837333  \n",
       "16    0    0  17       289   7.002156  \n",
       "17    0    0  18       324   7.109062  \n",
       "18    0    0  19       361   7.162397  \n",
       "19    0    0  20       400   7.207119  \n",
       "20    0    1  21       441   7.201171  \n",
       "21    1    0  22       484   7.167038  \n",
       "22    0    0  23       529   6.971669  \n",
       "23    0    0  24       576   6.803505  \n",
       "24    0    0  25       625   6.797940  \n",
       "25    0    0  26       676   6.675823  \n",
       "26    0    0  27       729   6.785588  \n",
       "27    0    0  28       784   6.961296  \n",
       "28    0    0  29       841   7.093405  \n",
       "29    0    0  30       900   7.189922  \n",
       "30    0    0  31       961   7.172425  \n",
       "31    0    0  32      1024   7.269617  \n",
       "32    0    1  33      1089   7.295056  \n",
       "33    1    0  34      1156   7.281386  \n",
       "34    0    0  35      1225   7.064759  \n",
       "35    0    0  36      1296   6.930495  \n",
       "36    0    0  37      1369   6.857514  \n",
       "37    0    0  38      1444   6.758095  \n",
       "38    0    0  39      1521   6.843750  \n",
       "39    0    0  40      1600   7.011214  \n",
       "40    0    0  41      1681   7.149917  \n",
       "41    0    0  42      1764   7.259820  \n",
       "42    0    0  43      1849   7.303843  \n",
       "43    0    0  44      1936   7.349231  \n",
       "44    0    1  45      2025   7.380256  \n",
       "45    1    0  46      2116   7.377759  \n",
       "46    0    0  47      2209   7.246368  \n",
       "47    0    0  48      2304   7.097549  \n",
       "48    0    0  49      2401   6.937314  \n",
       "49    0    0  50      2500   6.939254  \n",
       "50    0    0  51      2601   7.026427  \n",
       "51    0    0  52      2704   7.158514  \n",
       "52    0    0  53      2809   7.291656  \n",
       "53    0    0  54      2916   7.400621  \n",
       "54    0    0  55      3025   7.384610  \n",
       "55    0    0  56      3136   7.382746  \n",
       "56    0    1  57      3249   7.331715  \n",
       "57    1    0  58      3364   7.258412  \n",
       "58    0    0  59      3481   7.020191  \n",
       "59    0    0  60      3600   6.920672  "
      ]
     },
     "execution_count": 6,
     "metadata": {},
     "output_type": "execute_result"
    }
   ],
   "source": [
    "Plastic_Sales"
   ]
  },
  {
   "cell_type": "markdown",
   "metadata": {},
   "source": [
    "# Model Building"
   ]
  },
  {
   "cell_type": "code",
   "execution_count": 7,
   "metadata": {},
   "outputs": [],
   "source": [
    "import statsmodels.formula.api as smf\n",
    "from statsmodels.tsa.holtwinters import SimpleExpSmoothing,ExponentialSmoothing,Holt"
   ]
  },
  {
   "cell_type": "code",
   "execution_count": 8,
   "metadata": {},
   "outputs": [
    {
     "data": {
      "text/plain": [
       "260.9378142511123"
      ]
     },
     "execution_count": 8,
     "metadata": {},
     "output_type": "execute_result"
    }
   ],
   "source": [
    "# LINEAR MODEL\n",
    "linear_model= smf.ols('Sales~t',data=train).fit()\n",
    "linear_model\n",
    "predlinear= pd.Series(linear_model.predict(pd.DataFrame(test['t'])))\n",
    "rmse_lin= np.sqrt(np.mean((np.array(test['Sales'])-np.array(predlinear))**2))\n",
    "rmse_lin"
   ]
  },
  {
   "cell_type": "code",
   "execution_count": 9,
   "metadata": {},
   "outputs": [
    {
     "data": {
      "text/plain": [
       "297.40670972718397"
      ]
     },
     "execution_count": 9,
     "metadata": {},
     "output_type": "execute_result"
    }
   ],
   "source": [
    "# QUADRATIC MODEL\n",
    "\n",
    "quad_model=smf.ols('Sales~t+t_square',data=train).fit()\n",
    "predquad=pd.Series(quad_model.predict(pd.DataFrame(test[['t','t_square']])))\n",
    "predquad\n",
    "\n",
    "rmse_quad=np.sqrt(np.mean((np.array(test['Sales'])-np.array(predquad))**2))\n",
    "rmse_quad "
   ]
  },
  {
   "cell_type": "code",
   "execution_count": 10,
   "metadata": {},
   "outputs": [
    {
     "data": {
      "text/plain": [
       "268.6938385002598"
      ]
     },
     "execution_count": 10,
     "metadata": {},
     "output_type": "execute_result"
    }
   ],
   "source": [
    "# EXPONENTIAL MODEL \n",
    "\n",
    "exp_model=smf.ols('log_Sales~t',data=train).fit()\n",
    "predexp=pd.Series(exp_model.predict(pd.DataFrame(test['t'])))\n",
    "rmse_exp= np.sqrt(np.mean((np.array(test['Sales'])-np.array(np.exp(predexp)))**2))\n",
    "rmse_exp"
   ]
  },
  {
   "cell_type": "code",
   "execution_count": 11,
   "metadata": {},
   "outputs": [
    {
     "data": {
      "text/plain": [
       "235.60267356646528"
      ]
     },
     "execution_count": 11,
     "metadata": {},
     "output_type": "execute_result"
    }
   ],
   "source": [
    "# ADDITIVE SEASONALITY \n",
    "\n",
    "add_sea=smf.ols('Sales~Jan+Feb+Mar+Apr+May+Jun+Jul+Aug+Sep+Oct+Nov+Dec',data=train).fit()\n",
    "pred_addsea=pd.Series(add_sea.predict(pd.DataFrame(test[['Jan','Feb','Mar','Apr','May','Jun','Jul','Aug','Sep','Oct','Nov','Dec']])))\n",
    "rmse_add= np.sqrt(np.mean((np.array(test['Sales'])-np.array(pred_addsea))**2))\n",
    "rmse_add"
   ]
  },
  {
   "cell_type": "code",
   "execution_count": 12,
   "metadata": {},
   "outputs": [
    {
     "data": {
      "text/plain": [
       "135.55359583482146"
      ]
     },
     "execution_count": 12,
     "metadata": {},
     "output_type": "execute_result"
    }
   ],
   "source": [
    "# ADDITIVE SEASONALITY WITH LINEAR TREND \n",
    "\n",
    "add_sealin=smf.ols('Sales~t+Jan+Feb+Mar+Apr+May+Jun+Jul+Aug+Sep+Oct+Nov+Dec',data=train).fit()\n",
    "predaddlin=pd.Series(add_sealin.predict(pd.DataFrame(test[['t','Jan','Feb','Mar','Apr','May','Jun','Jul','Aug','Sep','Oct','Nov','Dec']])))\n",
    "rmseaddlin= np.sqrt(np.mean((np.array(test['Sales'])-np.array(predaddlin))**2))\n",
    "rmseaddlin"
   ]
  },
  {
   "cell_type": "code",
   "execution_count": 13,
   "metadata": {},
   "outputs": [
    {
     "data": {
      "text/plain": [
       "218.19387584888918"
      ]
     },
     "execution_count": 13,
     "metadata": {},
     "output_type": "execute_result"
    }
   ],
   "source": [
    "# ADDITIVE SEASONALITY WITH QUADRATIC TREND \n",
    "\n",
    "\n",
    "add_seaquad = smf.ols('Sales~t+t_square+Jan+Feb+Mar+Apr+May+Jun+Jul+Aug+Sep+Oct+Nov+Dec',data=train).fit()\n",
    "predaddquad= pd.Series(add_seaquad.predict(test[['t','t_square','Jan','Feb','Mar','Apr','May','Jun','Jul','Aug','Sep','Oct','Nov','Dec']]))\n",
    "rmseaddquad= np.sqrt(np.mean((np.array(test['Sales'])-np.array(predaddquad))**2))\n",
    "rmseaddquad"
   ]
  },
  {
   "cell_type": "code",
   "execution_count": 14,
   "metadata": {},
   "outputs": [
    {
     "data": {
      "text/plain": [
       "239.65432143121078"
      ]
     },
     "execution_count": 14,
     "metadata": {},
     "output_type": "execute_result"
    }
   ],
   "source": [
    "# MULTIPLICATIVE SEASONALITY \n",
    "\n",
    "mul_lin= smf.ols('log_Sales~Jan+Feb+Mar+Apr+May+Jun+Jul+Aug+Sep+Oct+Nov+Dec',data=train).fit()\n",
    "predmul=pd.Series(mul_lin.predict(test[['Jan','Feb','Mar','Apr','May','Jun','Jul','Aug','Sep','Oct','Nov','Dec']]))\n",
    "rmsemul=np.sqrt(np.mean((np.array(test['Sales'])-np.array(np.exp(predmul)))**2))\n",
    "rmsemul "
   ]
  },
  {
   "cell_type": "code",
   "execution_count": 15,
   "metadata": {},
   "outputs": [
    {
     "data": {
      "text/plain": [
       "160.68332947193696"
      ]
     },
     "execution_count": 15,
     "metadata": {},
     "output_type": "execute_result"
    }
   ],
   "source": [
    "# MULTIPLICATIVE SEASONALITY WITH LINEAR TREND \n",
    "\n",
    "mul_add= smf.ols('log_Sales~t+Jan+Feb+Mar+Apr+May+Jun+Jul+Aug+Sep+Oct+Nov+Dec',data=train).fit()\n",
    "predmuladd= pd.Series(mul_add.predict(test[['t','Jan','Feb','Mar','Apr','May','Jun','Jul','Aug','Sep','Oct','Nov','Dec']]))\n",
    "rmsemuladd = np.sqrt(np.mean((np.array(test['Sales'])-np.array(np.exp(predmuladd)))**2))\n",
    "rmsemuladd "
   ]
  },
  {
   "cell_type": "code",
   "execution_count": 16,
   "metadata": {},
   "outputs": [
    {
     "data": {
      "text/plain": [
       "160.68332947193696"
      ]
     },
     "execution_count": 16,
     "metadata": {},
     "output_type": "execute_result"
    }
   ],
   "source": [
    "# MULTIPLICATIVE SEASONALITY WITH QUADRATIC TREND\n",
    "\n",
    "mul_quad = smf.ols('log_Sales~t+t_square+Jan+Feb+Mar+Apr+May+Jun+Jul+Aug+Sep+Oct+Nov+Dec',data=train).fit()\n",
    "predmulquad= pd.Series(mul_add.predict(test[['t','t_square','Jan','Feb','Mar','Apr','May','Jun','Jul','Aug','Sep','Oct','Nov','Dec']]))\n",
    "rmsemulquad = np.sqrt(np.mean((np.array(test['Sales'])-np.array(np.exp(predmulquad)))**2))\n",
    "rmsemulquad"
   ]
  },
  {
   "cell_type": "code",
   "execution_count": 17,
   "metadata": {},
   "outputs": [
    {
     "data": {
      "text/html": [
       "<div>\n",
       "<style scoped>\n",
       "    .dataframe tbody tr th:only-of-type {\n",
       "        vertical-align: middle;\n",
       "    }\n",
       "\n",
       "    .dataframe tbody tr th {\n",
       "        vertical-align: top;\n",
       "    }\n",
       "\n",
       "    .dataframe thead th {\n",
       "        text-align: right;\n",
       "    }\n",
       "</style>\n",
       "<table border=\"1\" class=\"dataframe\">\n",
       "  <thead>\n",
       "    <tr style=\"text-align: right;\">\n",
       "      <th></th>\n",
       "      <th>MODEL</th>\n",
       "      <th>ERROR_VALUES</th>\n",
       "    </tr>\n",
       "  </thead>\n",
       "  <tbody>\n",
       "    <tr>\n",
       "      <th>4</th>\n",
       "      <td>rmseaddlin</td>\n",
       "      <td>135.553596</td>\n",
       "    </tr>\n",
       "    <tr>\n",
       "      <th>7</th>\n",
       "      <td>rmsemuladd</td>\n",
       "      <td>160.683329</td>\n",
       "    </tr>\n",
       "    <tr>\n",
       "      <th>8</th>\n",
       "      <td>rmsemulquad</td>\n",
       "      <td>160.683329</td>\n",
       "    </tr>\n",
       "    <tr>\n",
       "      <th>5</th>\n",
       "      <td>rmseaddquad</td>\n",
       "      <td>218.193876</td>\n",
       "    </tr>\n",
       "    <tr>\n",
       "      <th>0</th>\n",
       "      <td>rmse_add</td>\n",
       "      <td>235.602674</td>\n",
       "    </tr>\n",
       "    <tr>\n",
       "      <th>6</th>\n",
       "      <td>rmsemul</td>\n",
       "      <td>239.654321</td>\n",
       "    </tr>\n",
       "    <tr>\n",
       "      <th>2</th>\n",
       "      <td>rmse_lin</td>\n",
       "      <td>260.937814</td>\n",
       "    </tr>\n",
       "    <tr>\n",
       "      <th>1</th>\n",
       "      <td>rmse_exp</td>\n",
       "      <td>268.693839</td>\n",
       "    </tr>\n",
       "    <tr>\n",
       "      <th>3</th>\n",
       "      <td>rmse_quad</td>\n",
       "      <td>297.406710</td>\n",
       "    </tr>\n",
       "  </tbody>\n",
       "</table>\n",
       "</div>"
      ],
      "text/plain": [
       "         MODEL  ERROR_VALUES\n",
       "4   rmseaddlin    135.553596\n",
       "7   rmsemuladd    160.683329\n",
       "8  rmsemulquad    160.683329\n",
       "5  rmseaddquad    218.193876\n",
       "0     rmse_add    235.602674\n",
       "6      rmsemul    239.654321\n",
       "2     rmse_lin    260.937814\n",
       "1     rmse_exp    268.693839\n",
       "3    rmse_quad    297.406710"
      ]
     },
     "execution_count": 17,
     "metadata": {},
     "output_type": "execute_result"
    }
   ],
   "source": [
    "#TABULAR FORM OF RMSE\n",
    "data={'MODEL': pd.Series(['rmse_add','rmse_exp','rmse_lin','rmse_quad','rmseaddlin','rmseaddquad','rmsemul','rmsemuladd','rmsemulquad']), 'ERROR_VALUES':pd.Series([rmse_add,rmse_exp,rmse_lin,rmse_quad,rmseaddlin,rmseaddquad,rmsemul,rmsemuladd,rmsemulquad])}\n",
    "table_rmse= pd.DataFrame(data)\n",
    "table_rmse.sort_values('ERROR_VALUES')"
   ]
  },
  {
   "cell_type": "markdown",
   "metadata": {},
   "source": [
    "#### ADDITIVE SEASONALITY WITH LINEAR TREND have the least mean squared error"
   ]
  },
  {
   "cell_type": "code",
   "execution_count": 18,
   "metadata": {},
   "outputs": [
    {
     "data": {
      "text/plain": [
       "0      688.566667\n",
       "1      633.166667\n",
       "2      716.366667\n",
       "3      872.366667\n",
       "4     1031.566667\n",
       "5     1159.566667\n",
       "6     1187.566667\n",
       "7     1249.366667\n",
       "8     1247.366667\n",
       "9     1196.566667\n",
       "10     962.366667\n",
       "11     802.366667\n",
       "12     780.283333\n",
       "13     724.883333\n",
       "14     808.083333\n",
       "15     964.083333\n",
       "16    1123.283333\n",
       "17    1251.283333\n",
       "18    1279.283333\n",
       "19    1341.083333\n",
       "20    1339.083333\n",
       "21    1288.283333\n",
       "22    1054.083333\n",
       "23     894.083333\n",
       "24     872.000000\n",
       "25     816.600000\n",
       "26     899.800000\n",
       "27    1055.800000\n",
       "28    1215.000000\n",
       "29    1343.000000\n",
       "30    1371.000000\n",
       "31    1432.800000\n",
       "32    1430.800000\n",
       "33    1380.000000\n",
       "34    1145.800000\n",
       "35     985.800000\n",
       "36     963.716667\n",
       "37     908.316667\n",
       "38     991.516667\n",
       "39    1147.516667\n",
       "40    1306.716667\n",
       "41    1434.716667\n",
       "42    1462.716667\n",
       "43    1524.516667\n",
       "44    1522.516667\n",
       "45    1471.716667\n",
       "46    1237.516667\n",
       "47    1077.516667\n",
       "48    1055.433333\n",
       "49    1000.033333\n",
       "50    1083.233333\n",
       "51    1239.233333\n",
       "52    1398.433333\n",
       "53    1526.433333\n",
       "54    1554.433333\n",
       "55    1616.233333\n",
       "56    1614.233333\n",
       "57    1563.433333\n",
       "58    1329.233333\n",
       "59    1169.233333\n",
       "dtype: float64"
      ]
     },
     "execution_count": 18,
     "metadata": {},
     "output_type": "execute_result"
    }
   ],
   "source": [
    "# FINAL model is \n",
    "finalmodel =smf.ols('Sales~t+Jan+Feb+Mar+Apr+May+Jun+Jul+Aug+Sep+Oct+Nov+Dec',data=Plastic_Sales).fit()\n",
    "predictfinal=pd.Series(finalmodel.predict(Plastic_Sales))\n",
    "predictfinal"
   ]
  },
  {
   "cell_type": "markdown",
   "metadata": {},
   "source": [
    "## DATA DRIVEN MODEL"
   ]
  },
  {
   "cell_type": "code",
   "execution_count": 19,
   "metadata": {},
   "outputs": [
    {
     "data": {
      "text/html": [
       "<div>\n",
       "<style scoped>\n",
       "    .dataframe tbody tr th:only-of-type {\n",
       "        vertical-align: middle;\n",
       "    }\n",
       "\n",
       "    .dataframe tbody tr th {\n",
       "        vertical-align: top;\n",
       "    }\n",
       "\n",
       "    .dataframe thead th {\n",
       "        text-align: right;\n",
       "    }\n",
       "</style>\n",
       "<table border=\"1\" class=\"dataframe\">\n",
       "  <thead>\n",
       "    <tr style=\"text-align: right;\">\n",
       "      <th></th>\n",
       "      <th>Month</th>\n",
       "      <th>Sales</th>\n",
       "      <th>month</th>\n",
       "      <th>Date</th>\n",
       "    </tr>\n",
       "  </thead>\n",
       "  <tbody>\n",
       "    <tr>\n",
       "      <th>0</th>\n",
       "      <td>Jan-49</td>\n",
       "      <td>742</td>\n",
       "      <td>Jan</td>\n",
       "      <td>2049-01-01</td>\n",
       "    </tr>\n",
       "    <tr>\n",
       "      <th>1</th>\n",
       "      <td>Feb-49</td>\n",
       "      <td>697</td>\n",
       "      <td>Feb</td>\n",
       "      <td>2049-02-01</td>\n",
       "    </tr>\n",
       "    <tr>\n",
       "      <th>2</th>\n",
       "      <td>Mar-49</td>\n",
       "      <td>776</td>\n",
       "      <td>Mar</td>\n",
       "      <td>2049-03-01</td>\n",
       "    </tr>\n",
       "    <tr>\n",
       "      <th>3</th>\n",
       "      <td>Apr-49</td>\n",
       "      <td>898</td>\n",
       "      <td>Apr</td>\n",
       "      <td>2049-04-01</td>\n",
       "    </tr>\n",
       "    <tr>\n",
       "      <th>4</th>\n",
       "      <td>May-49</td>\n",
       "      <td>1030</td>\n",
       "      <td>May</td>\n",
       "      <td>2049-05-01</td>\n",
       "    </tr>\n",
       "  </tbody>\n",
       "</table>\n",
       "</div>"
      ],
      "text/plain": [
       "    Month  Sales month       Date\n",
       "0  Jan-49    742   Jan 2049-01-01\n",
       "1  Feb-49    697   Feb 2049-02-01\n",
       "2  Mar-49    776   Mar 2049-03-01\n",
       "3  Apr-49    898   Apr 2049-04-01\n",
       "4  May-49   1030   May 2049-05-01"
      ]
     },
     "execution_count": 19,
     "metadata": {},
     "output_type": "execute_result"
    }
   ],
   "source": [
    "plastic[\"Date\"] = pd.to_datetime(plastic.Month,format=\"%b-%y\")\n",
    "plastic.head()"
   ]
  },
  {
   "cell_type": "code",
   "execution_count": 20,
   "metadata": {},
   "outputs": [
    {
     "data": {
      "text/html": [
       "<div>\n",
       "<style scoped>\n",
       "    .dataframe tbody tr th:only-of-type {\n",
       "        vertical-align: middle;\n",
       "    }\n",
       "\n",
       "    .dataframe tbody tr th {\n",
       "        vertical-align: top;\n",
       "    }\n",
       "\n",
       "    .dataframe thead th {\n",
       "        text-align: right;\n",
       "    }\n",
       "</style>\n",
       "<table border=\"1\" class=\"dataframe\">\n",
       "  <thead>\n",
       "    <tr style=\"text-align: right;\">\n",
       "      <th></th>\n",
       "      <th>Month</th>\n",
       "      <th>Sales</th>\n",
       "      <th>month</th>\n",
       "      <th>Date</th>\n",
       "      <th>year</th>\n",
       "    </tr>\n",
       "  </thead>\n",
       "  <tbody>\n",
       "    <tr>\n",
       "      <th>0</th>\n",
       "      <td>Jan-49</td>\n",
       "      <td>742</td>\n",
       "      <td>Jan</td>\n",
       "      <td>2049-01-01</td>\n",
       "      <td>2049</td>\n",
       "    </tr>\n",
       "    <tr>\n",
       "      <th>1</th>\n",
       "      <td>Feb-49</td>\n",
       "      <td>697</td>\n",
       "      <td>Feb</td>\n",
       "      <td>2049-02-01</td>\n",
       "      <td>2049</td>\n",
       "    </tr>\n",
       "    <tr>\n",
       "      <th>2</th>\n",
       "      <td>Mar-49</td>\n",
       "      <td>776</td>\n",
       "      <td>Mar</td>\n",
       "      <td>2049-03-01</td>\n",
       "      <td>2049</td>\n",
       "    </tr>\n",
       "    <tr>\n",
       "      <th>3</th>\n",
       "      <td>Apr-49</td>\n",
       "      <td>898</td>\n",
       "      <td>Apr</td>\n",
       "      <td>2049-04-01</td>\n",
       "      <td>2049</td>\n",
       "    </tr>\n",
       "    <tr>\n",
       "      <th>4</th>\n",
       "      <td>May-49</td>\n",
       "      <td>1030</td>\n",
       "      <td>May</td>\n",
       "      <td>2049-05-01</td>\n",
       "      <td>2049</td>\n",
       "    </tr>\n",
       "  </tbody>\n",
       "</table>\n",
       "</div>"
      ],
      "text/plain": [
       "    Month  Sales month       Date  year\n",
       "0  Jan-49    742   Jan 2049-01-01  2049\n",
       "1  Feb-49    697   Feb 2049-02-01  2049\n",
       "2  Mar-49    776   Mar 2049-03-01  2049\n",
       "3  Apr-49    898   Apr 2049-04-01  2049\n",
       "4  May-49   1030   May 2049-05-01  2049"
      ]
     },
     "execution_count": 20,
     "metadata": {},
     "output_type": "execute_result"
    }
   ],
   "source": [
    "plastic[\"month\"] = plastic.Date.dt.strftime(\"%b\")\n",
    "plastic[\"year\"] =plastic.Date.dt.strftime(\"%Y\")\n",
    "plastic.head()"
   ]
  },
  {
   "cell_type": "markdown",
   "metadata": {},
   "source": [
    "### Some EDA on Time series data"
   ]
  },
  {
   "cell_type": "code",
   "execution_count": 21,
   "metadata": {},
   "outputs": [
    {
     "data": {
      "text/plain": [
       "<AxesSubplot:xlabel='month', ylabel='year'>"
      ]
     },
     "execution_count": 21,
     "metadata": {},
     "output_type": "execute_result"
    },
    {
     "data": {
      "image/png": "[encoded data removed]",
      "text/plain": [
       "<Figure size 864x576 with 2 Axes>"
      ]
     },
     "metadata": {
      "needs_background": "light"
     },
     "output_type": "display_data"
    }
   ],
   "source": [
    "# Heat map visualization \n",
    "plt.figure(figsize=(12,8))\n",
    "heatmap_y_month = pd.pivot_table(data=plastic,values=\"Sales\",index=\"year\",columns=\"month\",aggfunc=\"mean\",fill_value=0)\n",
    "sns.heatmap(heatmap_y_month,annot=True,fmt=\"g\")"
   ]
  },
  {
   "cell_type": "code",
   "execution_count": 22,
   "metadata": {},
   "outputs": [
    {
     "data": {
      "text/plain": [
       "<AxesSubplot:xlabel='year', ylabel='Sales'>"
      ]
     },
     "execution_count": 22,
     "metadata": {},
     "output_type": "execute_result"
    },
    {
     "data": {
      "image/png": "[encoded data removed]",
      "text/plain": [
       "<Figure size 864x1080 with 3 Axes>"
      ]
     },
     "metadata": {
      "needs_background": "light"
     },
     "output_type": "display_data"
    }
   ],
   "source": [
    "plt.figure(figsize=(12,15))\n",
    "plt.subplot(311)\n",
    "sns.boxplot(x=\"month\",y=\"Sales\",data=plastic)\n",
    "plt.subplot(312)\n",
    "sns.boxplot(x=\"year\",y=\"Sales\",data=plastic)\n",
    "plt.subplot(313)\n",
    "sns.lineplot(x=\"year\",y=\"Sales\",hue=\"month\",data=plastic)"
   ]
  },
  {
   "cell_type": "code",
   "execution_count": 23,
   "metadata": {},
   "outputs": [
    {
     "data": {
      "image/png": "[encoded data removed]",
      "text/plain": [
       "<Figure size 432x288 with 4 Axes>"
      ]
     },
     "metadata": {
      "needs_background": "light"
     },
     "output_type": "display_data"
    }
   ],
   "source": [
    "# Seasonal Decompose Plot\n",
    "from statsmodels.tsa.seasonal import seasonal_decompose\n",
    "plastic_sea_plot=seasonal_decompose(plastic.Sales,period=12)\n",
    "plastic_sea_plot.plot()\n",
    "plt.show()"
   ]
  },
  {
   "cell_type": "markdown",
   "metadata": {},
   "source": [
    "### Moving Average"
   ]
  },
  {
   "cell_type": "code",
   "execution_count": 24,
   "metadata": {},
   "outputs": [
    {
     "data": {
      "image/png": "[encoded data removed]",
      "text/plain": [
       "<Figure size 864x576 with 1 Axes>"
      ]
     },
     "metadata": {
      "needs_background": "light"
     },
     "output_type": "display_data"
    }
   ],
   "source": [
    "plt.figure(figsize=(12,8))\n",
    "plastic.Sales.plot(label='orig')\n",
    "for i in range(2,30,6):\n",
    "    plastic.Sales.rolling(i).mean().plot(label=str(i))\n",
    "    \n",
    "    plt.legend(loc='best')"
   ]
  },
  {
   "cell_type": "code",
   "execution_count": 25,
   "metadata": {},
   "outputs": [
    {
     "data": {
      "image/png": "[encoded data removed]",
      "text/plain": [
       "<Figure size 432x288 with 1 Axes>"
      ]
     },
     "metadata": {
      "needs_background": "light"
     },
     "output_type": "display_data"
    },
    {
     "data": {
      "image/png": "[encoded data removed]",
      "text/plain": [
       "<Figure size 432x288 with 1 Axes>"
      ]
     },
     "metadata": {
      "needs_background": "light"
     },
     "output_type": "display_data"
    }
   ],
   "source": [
    "import statsmodels.graphics.tsaplots as tsaplots\n",
    "tsaplots.plot_acf(plastic.Sales,lags=12)\n",
    "tsaplots.plot_pacf(plastic.Sales,lags=12)\n",
    "plt.show()"
   ]
  },
  {
   "cell_type": "code",
   "execution_count": 26,
   "metadata": {},
   "outputs": [
    {
     "data": {
      "image/png": "[encoded data removed]",
      "text/plain": [
       "<Figure size 432x288 with 4 Axes>"
      ]
     },
     "metadata": {
      "needs_background": "light"
     },
     "output_type": "display_data"
    },
    {
     "data": {
      "image/png": "[encoded data removed]",
      "text/plain": [
       "<Figure size 432x288 with 4 Axes>"
      ]
     },
     "metadata": {
      "needs_background": "light"
     },
     "output_type": "display_data"
    }
   ],
   "source": [
    "decompose_ts_add = seasonal_decompose(plastic.Sales,model=\"additive\",period=12)\n",
    "decompose_ts_add.plot()\n",
    "decompose_ts_mul = seasonal_decompose(plastic.Sales,model=\"multiplicative\",period=12)\n",
    "decompose_ts_mul.plot()\n",
    "plt.show()"
   ]
  },
  {
   "cell_type": "markdown",
   "metadata": {},
   "source": [
    "### MAPE"
   ]
  },
  {
   "cell_type": "code",
   "execution_count": 27,
   "metadata": {},
   "outputs": [],
   "source": [
    "def MAPE(pred,orig):\n",
    "    temp=np.abs((pred-orig)/orig)*100\n",
    "    return np.mean(temp)"
   ]
  },
  {
   "cell_type": "code",
   "execution_count": 28,
   "metadata": {},
   "outputs": [],
   "source": [
    "train = plastic.head(48)\n",
    "test = plastic.tail(12)"
   ]
  },
  {
   "cell_type": "markdown",
   "metadata": {},
   "source": [
    "## Simple Exponential Smoothening"
   ]
  },
  {
   "cell_type": "code",
   "execution_count": 29,
   "metadata": {},
   "outputs": [
    {
     "name": "stderr",
     "output_type": "stream",
     "text": [
      "C:\\Users\\Aswathy\\anaconda3\\lib\\site-packages\\statsmodels\\tsa\\holtwinters\\model.py:427: FutureWarning: After 0.13 initialization must be handled at model creation\n",
      "  warnings.warn(\n"
     ]
    },
    {
     "data": {
      "text/plain": [
       "18.181999865809455"
      ]
     },
     "execution_count": 29,
     "metadata": {},
     "output_type": "execute_result"
    }
   ],
   "source": [
    "ses_model=SimpleExpSmoothing(train['Sales']).fit(smoothing_level=.2)\n",
    "pred_ses=ses_model.predict(start=test.index[0],end=test.index[-1])\n",
    "MAPE(pred_ses,test.Sales)"
   ]
  },
  {
   "cell_type": "markdown",
   "metadata": {},
   "source": [
    "## Holt Method"
   ]
  },
  {
   "cell_type": "code",
   "execution_count": 30,
   "metadata": {},
   "outputs": [
    {
     "data": {
      "text/plain": [
       "22.316836930824877"
      ]
     },
     "execution_count": 30,
     "metadata": {},
     "output_type": "execute_result"
    }
   ],
   "source": [
    "hw_model=Holt(train['Sales']).fit(smoothing_level=0.2)\n",
    "pred_hw=hw_model.predict(start=test.index[0],end=test.index[-1])\n",
    "MAPE(pred_hw,test.Sales)"
   ]
  },
  {
   "cell_type": "markdown",
   "metadata": {},
   "source": [
    "### Holt Winter Exponential Smoothing with additive Seasonality and additive Trend"
   ]
  },
  {
   "cell_type": "code",
   "execution_count": 31,
   "metadata": {},
   "outputs": [
    {
     "data": {
      "text/plain": [
       "11.72188875957412"
      ]
     },
     "execution_count": 31,
     "metadata": {},
     "output_type": "execute_result"
    }
   ],
   "source": [
    "hwe_add_sea_trend_model=ExponentialSmoothing(train['Sales'],seasonal='add',trend='add',seasonal_periods=12).fit()\n",
    "pred_hwe_add_sea_trend=hwe_add_sea_trend_model.predict(start=test.index[0],end=test.index[-1])\n",
    "MAPE(pred_hwe_add_sea_trend,test.Sales)"
   ]
  },
  {
   "cell_type": "markdown",
   "metadata": {},
   "source": [
    "### Holts winter exponential smoothing with multiplicative seasonality and additive trend"
   ]
  },
  {
   "cell_type": "code",
   "execution_count": 32,
   "metadata": {},
   "outputs": [
    {
     "data": {
      "text/plain": [
       "15.051702809941952"
      ]
     },
     "execution_count": 32,
     "metadata": {},
     "output_type": "execute_result"
    }
   ],
   "source": [
    "hwe_mul_sea_trend_model=ExponentialSmoothing(train.Sales,seasonal='mul',trend='add',seasonal_periods=12).fit()\n",
    "pred_hwe_mul_sea_trend=hwe_mul_sea_trend_model.predict(start=test.index[0],end=test.index[-1])\n",
    "MAPE(pred_hwe_mul_sea_trend,test.Sales)"
   ]
  },
  {
   "cell_type": "markdown",
   "metadata": {},
   "source": [
    "## Final Model by combining train and test"
   ]
  },
  {
   "cell_type": "code",
   "execution_count": 33,
   "metadata": {},
   "outputs": [
    {
     "data": {
      "text/plain": [
       "60     934.488350\n",
       "61     880.667052\n",
       "62     962.668821\n",
       "63    1117.703970\n",
       "64    1273.737847\n",
       "65    1400.063125\n",
       "66    1425.901498\n",
       "67    1487.985947\n",
       "68    1486.205583\n",
       "69    1433.868695\n",
       "dtype: float64"
      ]
     },
     "execution_count": 33,
     "metadata": {},
     "output_type": "execute_result"
    }
   ],
   "source": [
    "hwe_add_sea_trend_model_final=ExponentialSmoothing(plastic.Sales,seasonal='add',trend='add',seasonal_periods=12).fit()\n",
    "hwe_add_sea_trend_model_final.forecast(10)"
   ]
  },
  {
   "cell_type": "markdown",
   "metadata": {},
   "source": [
    "# ARIMA Model"
   ]
  },
  {
   "cell_type": "code",
   "execution_count": 34,
   "metadata": {},
   "outputs": [],
   "source": [
    "from statsmodels.tsa.arima_model import ARIMA\n",
    "import warnings\n",
    "warnings.filterwarnings('ignore')"
   ]
  },
  {
   "cell_type": "code",
   "execution_count": 35,
   "metadata": {},
   "outputs": [],
   "source": [
    "plastic_data=pd.read_csv('PlasticSales.csv',header=0,index_col=0,parse_dates=True)"
   ]
  },
  {
   "cell_type": "code",
   "execution_count": 36,
   "metadata": {},
   "outputs": [
    {
     "data": {
      "text/plain": [
       "<AxesSubplot:>"
      ]
     },
     "execution_count": 36,
     "metadata": {},
     "output_type": "execute_result"
    },
    {
     "data": {
      "image/png": "[encoded data removed]",
      "text/plain": [
       "<Figure size 432x288 with 1 Axes>"
      ]
     },
     "metadata": {
      "needs_background": "light"
     },
     "output_type": "display_data"
    }
   ],
   "source": [
    "plastic.plot()"
   ]
  },
  {
   "cell_type": "code",
   "execution_count": 37,
   "metadata": {},
   "outputs": [
    {
     "data": {
      "text/plain": [
       "array([[<AxesSubplot:title={'center':'Sales'}>]], dtype=object)"
      ]
     },
     "execution_count": 37,
     "metadata": {},
     "output_type": "execute_result"
    },
    {
     "data": {
      "image/png": "[encoded data removed]",
      "text/plain": [
       "<Figure size 432x288 with 1 Axes>"
      ]
     },
     "metadata": {
      "needs_background": "light"
     },
     "output_type": "display_data"
    }
   ],
   "source": [
    "plastic.hist()"
   ]
  },
  {
   "cell_type": "code",
   "execution_count": 38,
   "metadata": {},
   "outputs": [
    {
     "data": {
      "text/plain": [
       "<AxesSubplot:ylabel='Density'>"
      ]
     },
     "execution_count": 38,
     "metadata": {},
     "output_type": "execute_result"
    },
    {
     "data": {
      "image/png": "[encoded data removed]",
      "text/plain": [
       "<Figure size 432x288 with 1 Axes>"
      ]
     },
     "metadata": {
      "needs_background": "light"
     },
     "output_type": "display_data"
    }
   ],
   "source": [
    "plastic_data.plot(kind='kde')"
   ]
  },
  {
   "cell_type": "code",
   "execution_count": 39,
   "metadata": {},
   "outputs": [
    {
     "name": "stdout",
     "output_type": "stream",
     "text": [
      "Dataset 50, Validation 10\n"
     ]
    }
   ],
   "source": [
    "# Seperate Validation Dataset\n",
    "split=len(plastic_data)-10\n",
    "dataset,validation=plastic_data[:split],plastic_data[split:]\n",
    "print('Dataset %s, Validation %s'% (len(dataset),len(validation)))"
   ]
  },
  {
   "cell_type": "code",
   "execution_count": 40,
   "metadata": {},
   "outputs": [
    {
     "data": {
      "text/html": [
       "<div>\n",
       "<style scoped>\n",
       "    .dataframe tbody tr th:only-of-type {\n",
       "        vertical-align: middle;\n",
       "    }\n",
       "\n",
       "    .dataframe tbody tr th {\n",
       "        vertical-align: top;\n",
       "    }\n",
       "\n",
       "    .dataframe thead th {\n",
       "        text-align: right;\n",
       "    }\n",
       "</style>\n",
       "<table border=\"1\" class=\"dataframe\">\n",
       "  <thead>\n",
       "    <tr style=\"text-align: right;\">\n",
       "      <th></th>\n",
       "      <th>Sales</th>\n",
       "    </tr>\n",
       "    <tr>\n",
       "      <th>Month</th>\n",
       "      <th></th>\n",
       "    </tr>\n",
       "  </thead>\n",
       "  <tbody>\n",
       "    <tr>\n",
       "      <th>2049-01-01</th>\n",
       "      <td>742</td>\n",
       "    </tr>\n",
       "    <tr>\n",
       "      <th>2049-02-01</th>\n",
       "      <td>697</td>\n",
       "    </tr>\n",
       "    <tr>\n",
       "      <th>2049-03-01</th>\n",
       "      <td>776</td>\n",
       "    </tr>\n",
       "    <tr>\n",
       "      <th>2049-04-01</th>\n",
       "      <td>898</td>\n",
       "    </tr>\n",
       "    <tr>\n",
       "      <th>2049-05-01</th>\n",
       "      <td>1030</td>\n",
       "    </tr>\n",
       "    <tr>\n",
       "      <th>2049-06-01</th>\n",
       "      <td>1107</td>\n",
       "    </tr>\n",
       "    <tr>\n",
       "      <th>2049-07-01</th>\n",
       "      <td>1165</td>\n",
       "    </tr>\n",
       "    <tr>\n",
       "      <th>2049-08-01</th>\n",
       "      <td>1216</td>\n",
       "    </tr>\n",
       "    <tr>\n",
       "      <th>2049-09-01</th>\n",
       "      <td>1208</td>\n",
       "    </tr>\n",
       "    <tr>\n",
       "      <th>2049-10-01</th>\n",
       "      <td>1131</td>\n",
       "    </tr>\n",
       "    <tr>\n",
       "      <th>2049-11-01</th>\n",
       "      <td>971</td>\n",
       "    </tr>\n",
       "    <tr>\n",
       "      <th>2049-12-01</th>\n",
       "      <td>783</td>\n",
       "    </tr>\n",
       "    <tr>\n",
       "      <th>2050-01-01</th>\n",
       "      <td>741</td>\n",
       "    </tr>\n",
       "    <tr>\n",
       "      <th>2050-02-01</th>\n",
       "      <td>700</td>\n",
       "    </tr>\n",
       "    <tr>\n",
       "      <th>2050-03-01</th>\n",
       "      <td>774</td>\n",
       "    </tr>\n",
       "    <tr>\n",
       "      <th>2050-04-01</th>\n",
       "      <td>932</td>\n",
       "    </tr>\n",
       "    <tr>\n",
       "      <th>2050-05-01</th>\n",
       "      <td>1099</td>\n",
       "    </tr>\n",
       "    <tr>\n",
       "      <th>2050-06-01</th>\n",
       "      <td>1223</td>\n",
       "    </tr>\n",
       "    <tr>\n",
       "      <th>2050-07-01</th>\n",
       "      <td>1290</td>\n",
       "    </tr>\n",
       "    <tr>\n",
       "      <th>2050-08-01</th>\n",
       "      <td>1349</td>\n",
       "    </tr>\n",
       "    <tr>\n",
       "      <th>2050-09-01</th>\n",
       "      <td>1341</td>\n",
       "    </tr>\n",
       "    <tr>\n",
       "      <th>2050-10-01</th>\n",
       "      <td>1296</td>\n",
       "    </tr>\n",
       "    <tr>\n",
       "      <th>2050-11-01</th>\n",
       "      <td>1066</td>\n",
       "    </tr>\n",
       "    <tr>\n",
       "      <th>2050-12-01</th>\n",
       "      <td>901</td>\n",
       "    </tr>\n",
       "    <tr>\n",
       "      <th>2051-01-01</th>\n",
       "      <td>896</td>\n",
       "    </tr>\n",
       "    <tr>\n",
       "      <th>2051-02-01</th>\n",
       "      <td>793</td>\n",
       "    </tr>\n",
       "    <tr>\n",
       "      <th>2051-03-01</th>\n",
       "      <td>885</td>\n",
       "    </tr>\n",
       "    <tr>\n",
       "      <th>2051-04-01</th>\n",
       "      <td>1055</td>\n",
       "    </tr>\n",
       "    <tr>\n",
       "      <th>2051-05-01</th>\n",
       "      <td>1204</td>\n",
       "    </tr>\n",
       "    <tr>\n",
       "      <th>2051-06-01</th>\n",
       "      <td>1326</td>\n",
       "    </tr>\n",
       "    <tr>\n",
       "      <th>2051-07-01</th>\n",
       "      <td>1303</td>\n",
       "    </tr>\n",
       "    <tr>\n",
       "      <th>2051-08-01</th>\n",
       "      <td>1436</td>\n",
       "    </tr>\n",
       "    <tr>\n",
       "      <th>2051-09-01</th>\n",
       "      <td>1473</td>\n",
       "    </tr>\n",
       "    <tr>\n",
       "      <th>2051-10-01</th>\n",
       "      <td>1453</td>\n",
       "    </tr>\n",
       "    <tr>\n",
       "      <th>2051-11-01</th>\n",
       "      <td>1170</td>\n",
       "    </tr>\n",
       "    <tr>\n",
       "      <th>2051-12-01</th>\n",
       "      <td>1023</td>\n",
       "    </tr>\n",
       "    <tr>\n",
       "      <th>2052-01-01</th>\n",
       "      <td>951</td>\n",
       "    </tr>\n",
       "    <tr>\n",
       "      <th>2052-02-01</th>\n",
       "      <td>861</td>\n",
       "    </tr>\n",
       "    <tr>\n",
       "      <th>2052-03-01</th>\n",
       "      <td>938</td>\n",
       "    </tr>\n",
       "    <tr>\n",
       "      <th>2052-04-01</th>\n",
       "      <td>1109</td>\n",
       "    </tr>\n",
       "    <tr>\n",
       "      <th>2052-05-01</th>\n",
       "      <td>1274</td>\n",
       "    </tr>\n",
       "    <tr>\n",
       "      <th>2052-06-01</th>\n",
       "      <td>1422</td>\n",
       "    </tr>\n",
       "    <tr>\n",
       "      <th>2052-07-01</th>\n",
       "      <td>1486</td>\n",
       "    </tr>\n",
       "    <tr>\n",
       "      <th>2052-08-01</th>\n",
       "      <td>1555</td>\n",
       "    </tr>\n",
       "    <tr>\n",
       "      <th>2052-09-01</th>\n",
       "      <td>1604</td>\n",
       "    </tr>\n",
       "    <tr>\n",
       "      <th>2052-10-01</th>\n",
       "      <td>1600</td>\n",
       "    </tr>\n",
       "    <tr>\n",
       "      <th>2052-11-01</th>\n",
       "      <td>1403</td>\n",
       "    </tr>\n",
       "    <tr>\n",
       "      <th>2052-12-01</th>\n",
       "      <td>1209</td>\n",
       "    </tr>\n",
       "    <tr>\n",
       "      <th>2053-01-01</th>\n",
       "      <td>1030</td>\n",
       "    </tr>\n",
       "    <tr>\n",
       "      <th>2053-02-01</th>\n",
       "      <td>1032</td>\n",
       "    </tr>\n",
       "  </tbody>\n",
       "</table>\n",
       "</div>"
      ],
      "text/plain": [
       "            Sales\n",
       "Month            \n",
       "2049-01-01    742\n",
       "2049-02-01    697\n",
       "2049-03-01    776\n",
       "2049-04-01    898\n",
       "2049-05-01   1030\n",
       "2049-06-01   1107\n",
       "2049-07-01   1165\n",
       "2049-08-01   1216\n",
       "2049-09-01   1208\n",
       "2049-10-01   1131\n",
       "2049-11-01    971\n",
       "2049-12-01    783\n",
       "2050-01-01    741\n",
       "2050-02-01    700\n",
       "2050-03-01    774\n",
       "2050-04-01    932\n",
       "2050-05-01   1099\n",
       "2050-06-01   1223\n",
       "2050-07-01   1290\n",
       "2050-08-01   1349\n",
       "2050-09-01   1341\n",
       "2050-10-01   1296\n",
       "2050-11-01   1066\n",
       "2050-12-01    901\n",
       "2051-01-01    896\n",
       "2051-02-01    793\n",
       "2051-03-01    885\n",
       "2051-04-01   1055\n",
       "2051-05-01   1204\n",
       "2051-06-01   1326\n",
       "2051-07-01   1303\n",
       "2051-08-01   1436\n",
       "2051-09-01   1473\n",
       "2051-10-01   1453\n",
       "2051-11-01   1170\n",
       "2051-12-01   1023\n",
       "2052-01-01    951\n",
       "2052-02-01    861\n",
       "2052-03-01    938\n",
       "2052-04-01   1109\n",
       "2052-05-01   1274\n",
       "2052-06-01   1422\n",
       "2052-07-01   1486\n",
       "2052-08-01   1555\n",
       "2052-09-01   1604\n",
       "2052-10-01   1600\n",
       "2052-11-01   1403\n",
       "2052-12-01   1209\n",
       "2053-01-01   1030\n",
       "2053-02-01   1032"
      ]
     },
     "execution_count": 40,
     "metadata": {},
     "output_type": "execute_result"
    }
   ],
   "source": [
    "dataset.to_csv('dataset.csv',header=0)\n",
    "dataset"
   ]
  },
  {
   "cell_type": "code",
   "execution_count": 41,
   "metadata": {},
   "outputs": [
    {
     "data": {
      "text/html": [
       "<div>\n",
       "<style scoped>\n",
       "    .dataframe tbody tr th:only-of-type {\n",
       "        vertical-align: middle;\n",
       "    }\n",
       "\n",
       "    .dataframe tbody tr th {\n",
       "        vertical-align: top;\n",
       "    }\n",
       "\n",
       "    .dataframe thead th {\n",
       "        text-align: right;\n",
       "    }\n",
       "</style>\n",
       "<table border=\"1\" class=\"dataframe\">\n",
       "  <thead>\n",
       "    <tr style=\"text-align: right;\">\n",
       "      <th></th>\n",
       "      <th>Sales</th>\n",
       "    </tr>\n",
       "    <tr>\n",
       "      <th>Month</th>\n",
       "      <th></th>\n",
       "    </tr>\n",
       "  </thead>\n",
       "  <tbody>\n",
       "    <tr>\n",
       "      <th>2053-03-01</th>\n",
       "      <td>1126</td>\n",
       "    </tr>\n",
       "    <tr>\n",
       "      <th>2053-04-01</th>\n",
       "      <td>1285</td>\n",
       "    </tr>\n",
       "    <tr>\n",
       "      <th>2053-05-01</th>\n",
       "      <td>1468</td>\n",
       "    </tr>\n",
       "    <tr>\n",
       "      <th>2053-06-01</th>\n",
       "      <td>1637</td>\n",
       "    </tr>\n",
       "    <tr>\n",
       "      <th>2053-07-01</th>\n",
       "      <td>1611</td>\n",
       "    </tr>\n",
       "    <tr>\n",
       "      <th>2053-08-01</th>\n",
       "      <td>1608</td>\n",
       "    </tr>\n",
       "    <tr>\n",
       "      <th>2053-09-01</th>\n",
       "      <td>1528</td>\n",
       "    </tr>\n",
       "    <tr>\n",
       "      <th>2053-10-01</th>\n",
       "      <td>1420</td>\n",
       "    </tr>\n",
       "    <tr>\n",
       "      <th>2053-11-01</th>\n",
       "      <td>1119</td>\n",
       "    </tr>\n",
       "    <tr>\n",
       "      <th>2053-12-01</th>\n",
       "      <td>1013</td>\n",
       "    </tr>\n",
       "  </tbody>\n",
       "</table>\n",
       "</div>"
      ],
      "text/plain": [
       "            Sales\n",
       "Month            \n",
       "2053-03-01   1126\n",
       "2053-04-01   1285\n",
       "2053-05-01   1468\n",
       "2053-06-01   1637\n",
       "2053-07-01   1611\n",
       "2053-08-01   1608\n",
       "2053-09-01   1528\n",
       "2053-10-01   1420\n",
       "2053-11-01   1119\n",
       "2053-12-01   1013"
      ]
     },
     "execution_count": 41,
     "metadata": {},
     "output_type": "execute_result"
    }
   ],
   "source": [
    "validation.to_csv('validation.csv',header=0)\n",
    "validation"
   ]
  },
  {
   "cell_type": "markdown",
   "metadata": {},
   "source": [
    "## Persistance/Base Model"
   ]
  },
  {
   "cell_type": "code",
   "execution_count": 42,
   "metadata": {},
   "outputs": [],
   "source": [
    "train=pd.read_csv('dataset.csv',header=0,index_col=0,parse_dates=True)\n",
    "X=train.values\n",
    "X=X.astype('float')\n",
    "size=int(len(X)*0.5)\n",
    "train,test=X[:size],X[size:]"
   ]
  },
  {
   "cell_type": "code",
   "execution_count": 43,
   "metadata": {},
   "outputs": [
    {
     "name": "stdout",
     "output_type": "stream",
     "text": [
      "Predicted 896.000, Expected 793.000\n",
      "Predicted 793.000, Expected 885.000\n",
      "Predicted 885.000, Expected 1055.000\n",
      "Predicted 1055.000, Expected 1204.000\n",
      "Predicted 1204.000, Expected 1326.000\n",
      "Predicted 1326.000, Expected 1303.000\n",
      "Predicted 1303.000, Expected 1436.000\n",
      "Predicted 1436.000, Expected 1473.000\n",
      "Predicted 1473.000, Expected 1453.000\n",
      "Predicted 1453.000, Expected 1170.000\n",
      "Predicted 1170.000, Expected 1023.000\n",
      "Predicted 1023.000, Expected 951.000\n",
      "Predicted 951.000, Expected 861.000\n",
      "Predicted 861.000, Expected 938.000\n",
      "Predicted 938.000, Expected 1109.000\n",
      "Predicted 1109.000, Expected 1274.000\n",
      "Predicted 1274.000, Expected 1422.000\n",
      "Predicted 1422.000, Expected 1486.000\n",
      "Predicted 1486.000, Expected 1555.000\n",
      "Predicted 1555.000, Expected 1604.000\n",
      "Predicted 1604.000, Expected 1600.000\n",
      "Predicted 1600.000, Expected 1403.000\n",
      "Predicted 1403.000, Expected 1209.000\n",
      "Predicted 1209.000, Expected 1030.000\n",
      "Predicted 1030.000, Expected 1032.000\n"
     ]
    }
   ],
   "source": [
    "# Walk Forward Validation\n",
    "history=[x for x in train]\n",
    "prediction=list()\n",
    "\n",
    "for i in range(len(test)):\n",
    "    yhat=history[-1]\n",
    "    prediction.append(yhat)\n",
    "    \n",
    "    obs=test[i]\n",
    "    history.append(obs)\n",
    "    print('Predicted %.3f, Expected %.3f'%(yhat,obs))"
   ]
  },
  {
   "cell_type": "code",
   "execution_count": 44,
   "metadata": {},
   "outputs": [
    {
     "data": {
      "text/plain": [
       "130.24438567554458"
      ]
     },
     "execution_count": 44,
     "metadata": {},
     "output_type": "execute_result"
    }
   ],
   "source": [
    "# RMSE Value\n",
    "rmse=sqrt(mean_squared_error(test,prediction))\n",
    "rmse"
   ]
  },
  {
   "cell_type": "markdown",
   "metadata": {},
   "source": [
    "## ARIMA Hyperparameters"
   ]
  },
  {
   "cell_type": "code",
   "execution_count": 45,
   "metadata": {},
   "outputs": [],
   "source": [
    "import warnings\n",
    "from statsmodels.tsa.arima_model import ARIMA\n",
    "from sklearn.metrics import mean_squared_error\n",
    "from math import sqrt\n",
    "\n",
    "# evaluate an ARIMA model for a given order (p,d,q) and return RMSE\n",
    "def evaluate_arima_model(X,arima_order):\n",
    "    X = X.astype('float32')\n",
    "    train_size = int(len(X) * 0.50)\n",
    "    train, test = X[0:train_size], X[train_size:]\n",
    "    \n",
    "    history=[x for x in train]\n",
    "    prediction=list()\n",
    "    for t in range(len(test)):\n",
    "        model=ARIMA(history,order=arima_order)\n",
    "        model_fit=model.fit(disp=0)\n",
    "        yhat=model_fit.forecast()[0]\n",
    "        prediction.append(yhat)\n",
    "        history.append(test[t])\n",
    "        \n",
    "    # Calculate Error\n",
    "    rmse=sqrt(mean_squared_error(test,prediction))\n",
    "    return rmse\n"
   ]
  },
  {
   "cell_type": "code",
   "execution_count": 46,
   "metadata": {},
   "outputs": [],
   "source": [
    "## Grid Search for p,d,q values\n",
    "# evaluate combinations of p,d,q for different ARIMA Models\n",
    "def evaluate_models(dataset,p_values,d_values,q_values):\n",
    "    dataset=dataset.astype('float32')\n",
    "    best_score,best_cfg=float('inf'),None\n",
    "    for p in p_values:\n",
    "        for d in d_values:\n",
    "            for q in q_values:\n",
    "                order=(p,d,q)\n",
    "                try:\n",
    "                    rmse=evaluate_arima_model(train,order)\n",
    "                    if rmse<best_score:\n",
    "                        best_score,best_cfg=rmse,order\n",
    "                    print(\"ARIMA %s, RMSE= %.3f\"%(order,rmse))\n",
    "                except:\n",
    "                    continue\n",
    "    print('Best ARIMA %s, RMSE= %.3f'% (best_cfg,best_score))\n",
    "    "
   ]
  },
  {
   "cell_type": "code",
   "execution_count": 47,
   "metadata": {},
   "outputs": [
    {
     "name": "stdout",
     "output_type": "stream",
     "text": [
      "ARIMA (0, 0, 0), RMSE= 283.039\n",
      "ARIMA (0, 0, 1), RMSE= 171.460\n",
      "ARIMA (0, 1, 0), RMSE= 132.035\n",
      "ARIMA (0, 1, 1), RMSE= 117.584\n",
      "ARIMA (0, 1, 2), RMSE= 124.317\n",
      "ARIMA (0, 2, 0), RMSE= 115.662\n",
      "ARIMA (0, 2, 1), RMSE= 120.126\n",
      "ARIMA (0, 2, 2), RMSE= 124.549\n",
      "ARIMA (1, 0, 0), RMSE= 131.164\n",
      "ARIMA (1, 1, 0), RMSE= 105.039\n",
      "ARIMA (1, 2, 0), RMSE= 120.149\n",
      "ARIMA (1, 2, 1), RMSE= 121.534\n",
      "ARIMA (1, 2, 2), RMSE= 122.684\n",
      "ARIMA (2, 0, 0), RMSE= 95.600\n",
      "ARIMA (2, 0, 1), RMSE= 96.134\n",
      "ARIMA (2, 1, 0), RMSE= 109.977\n",
      "ARIMA (2, 2, 0), RMSE= 124.127\n",
      "ARIMA (2, 2, 1), RMSE= 129.916\n",
      "Best ARIMA (2, 0, 0), RMSE= 95.600\n"
     ]
    }
   ],
   "source": [
    "import warnings\n",
    "warnings.filterwarnings('ignore')\n",
    "\n",
    "train=pd.read_csv('dataset.csv',header=0,index_col=0,parse_dates=True,squeeze=True)\n",
    "# Evaluate Parameters\n",
    "p_values=range(0,3)\n",
    "d_values=range(0,3)\n",
    "q_values=range(0,3)\n",
    "\n",
    "evaluate_models(train.values,p_values,d_values,q_values)"
   ]
  },
  {
   "cell_type": "code",
   "execution_count": 48,
   "metadata": {},
   "outputs": [
    {
     "data": {
      "text/plain": [
       "array([1074.10294751, 1111.24271455, 1136.22151472, 1152.50134657,\n",
       "       1164.31859781, 1174.34942032, 1183.86547126, 1193.33548637,\n",
       "       1202.87394588, 1212.47648371])"
      ]
     },
     "execution_count": 48,
     "metadata": {},
     "output_type": "execute_result"
    }
   ],
   "source": [
    "model=ARIMA(X,order=(2,1,0))\n",
    "model_fit=model.fit()\n",
    "forecast=model_fit.forecast(10)[0]\n",
    "forecast"
   ]
  },
  {
   "cell_type": "code",
   "execution_count": 49,
   "metadata": {},
   "outputs": [
    {
     "data": {
      "image/png": "[encoded data removed]",
      "text/plain": [
       "<Figure size 432x288 with 1 Axes>"
      ]
     },
     "execution_count": 49,
     "metadata": {},
     "output_type": "execute_result"
    },
    {
     "data": {
      "image/png": "[encoded data removed]",
      "text/plain": [
       "<Figure size 432x288 with 1 Axes>"
      ]
     },
     "metadata": {
      "needs_background": "light"
     },
     "output_type": "display_data"
    }
   ],
   "source": [
    "model_fit.plot_predict(1,79)"
   ]
  },
  {
   "cell_type": "code",
   "execution_count": 50,
   "metadata": {},
   "outputs": [
    {
     "data": {
      "text/plain": [
       "130.24438567554458"
      ]
     },
     "execution_count": 50,
     "metadata": {},
     "output_type": "execute_result"
    }
   ],
   "source": [
    "# Error on test data\n",
    "val=pd.read_csv('validation.csv',header=None)\n",
    "valrmse=sqrt(mean_squared_error(val[1],forecast))\n",
    "rmse"
   ]
  },
  {
   "cell_type": "code",
   "execution_count": 51,
   "metadata": {},
   "outputs": [],
   "source": [
    "X=plastic_data.values\n",
    "model1=ARIMA(X,order=(2,0,0))\n",
    "model_fit1=model1.fit()"
   ]
  },
  {
   "cell_type": "code",
   "execution_count": 52,
   "metadata": {},
   "outputs": [
    {
     "data": {
      "text/plain": [
       "array([ 960.67120308,  960.4656135 , 1000.54136876, 1063.52854017,\n",
       "       1131.33752754, 1189.0181632 , 1227.0976902 , 1242.26686379,\n",
       "       1236.65065214, 1216.13520949])"
      ]
     },
     "execution_count": 52,
     "metadata": {},
     "output_type": "execute_result"
    }
   ],
   "source": [
    "forecasts=model_fit1.forecast(10)[0]\n",
    "forecasts"
   ]
  },
  {
   "cell_type": "code",
   "execution_count": 53,
   "metadata": {},
   "outputs": [
    {
     "data": {
      "image/png": "[encoded data removed]",
      "text/plain": [
       "<Figure size 432x288 with 1 Axes>"
      ]
     },
     "execution_count": 53,
     "metadata": {},
     "output_type": "execute_result"
    },
    {
     "data": {
      "image/png": "[encoded data removed]",
      "text/plain": [
       "<Figure size 432x288 with 1 Axes>"
      ]
     },
     "metadata": {
      "needs_background": "light"
     },
     "output_type": "display_data"
    }
   ],
   "source": [
    "model_fit1.plot_predict(1,80)"
   ]
  },
  {
   "cell_type": "code",
   "execution_count": null,
   "metadata": {},
   "outputs": [],
   "source": []
  }
 ],
 "metadata": {
  "kernelspec": {
   "display_name": "Python 3",
   "language": "python",
   "name": "python3"
  },
  "language_info": {
   "codemirror_mode": {
    "name": "ipython",
    "version": 3
   },
   "file_extension": ".py",
   "mimetype": "text/x-python",
   "name": "python",
   "nbconvert_exporter": "python",
   "pygments_lexer": "ipython3",
   "version": "3.8.5"
  }
 },
 "nbformat": 4,
 "nbformat_minor": 4
}
